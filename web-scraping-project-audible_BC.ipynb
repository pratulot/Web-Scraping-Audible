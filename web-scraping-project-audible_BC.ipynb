{
 "cells": [
  {
   "cell_type": "markdown",
   "metadata": {},
   "source": [
    "# web-scraping-project-audible_B&C\n",
    "\n",
    "Use the \"Run\" button to execute the code."
   ]
  },
  {
   "cell_type": "code",
   "execution_count": 159,
   "metadata": {},
   "outputs": [],
   "source": [
    "!pip install jovian --upgrade --quiet\n",
    "!pip install requests --upgrade --quiet\n",
    "!pip install beautifulsoup4 --upgrade --quiet\n",
    "!pip install pandas --upgrade --quiet"
   ]
  },
  {
   "cell_type": "code",
   "execution_count": 160,
   "metadata": {},
   "outputs": [],
   "source": [
    "import jovian\n",
    "import requests as rq\n",
    "from bs4 import BeautifulSoup as bs\n",
    "import pandas as pd"
   ]
  },
  {
   "cell_type": "code",
   "execution_count": null,
   "metadata": {},
   "outputs": [
    {
     "data": {
      "application/javascript": [
       "window.require && require([\"base/js/namespace\"],function(Jupyter){Jupyter.notebook.save_checkpoint()})"
      ],
      "text/plain": [
       "<IPython.core.display.Javascript object>"
      ]
     },
     "metadata": {},
     "output_type": "display_data"
    }
   ],
   "source": [
    "# Execute this to save new versions of the notebook\n",
    "jovian.commit(project=\"web-scraping-project-audible_B&C\")"
   ]
  },
  {
   "cell_type": "code",
   "execution_count": null,
   "metadata": {},
   "outputs": [],
   "source": []
  },
  {
   "cell_type": "code",
   "execution_count": 162,
   "metadata": {},
   "outputs": [],
   "source": [
    "audible_url= 'https://www.audible.in/search?node=21881793031&pageSize=50&sort=&page=1'"
   ]
  },
  {
   "cell_type": "code",
   "execution_count": 163,
   "metadata": {},
   "outputs": [],
   "source": [
    "response = rq.get(audible_url)"
   ]
  },
  {
   "cell_type": "code",
   "execution_count": 164,
   "metadata": {},
   "outputs": [],
   "source": [
    "page_contents=response.text"
   ]
  },
  {
   "cell_type": "code",
   "execution_count": 165,
   "metadata": {},
   "outputs": [],
   "source": [
    "with open ('business-career-books.html', 'w') as f:\n",
    "    f.write(page_contents)"
   ]
  },
  {
   "cell_type": "code",
   "execution_count": 166,
   "metadata": {},
   "outputs": [],
   "source": [
    "with open ('business-career-books.html', 'r') as f:\n",
    "    html_source= f.read()"
   ]
  },
  {
   "cell_type": "code",
   "execution_count": 167,
   "metadata": {},
   "outputs": [],
   "source": [
    "doc=bs(html_source)"
   ]
  },
  {
   "cell_type": "code",
   "execution_count": 168,
   "metadata": {},
   "outputs": [],
   "source": [
    "book_title_tags= doc.find_all('a', class_='bc-link bc-color-link')"
   ]
  },
  {
   "cell_type": "code",
   "execution_count": null,
   "metadata": {},
   "outputs": [],
   "source": []
  },
  {
   "cell_type": "code",
   "execution_count": 169,
   "metadata": {},
   "outputs": [],
   "source": [
    "def get_pageno(pageno):\n",
    "    pageno= str(pageno)\n",
    "    # Construct the URL\n",
    "    books_pageno_url = 'https://www.audible.in/search?node=21881793031&pageSize=50&sort=&page=' + pageno\n",
    "    \n",
    "    # Get the HTML page content using requests\n",
    "    response = rq.get(books_pageno_url)\n",
    "    \n",
    "    # Ensure that the reponse is valid\n",
    "    if response.status_code != 200:\n",
    "        print('Status code:', response.status_code)\n",
    "        raise Exception('Failed to fetch web page ' + books_pageno_url)\n",
    "    \n",
    "    # Construct a beautiful soup document\n",
    "    doc = bs(response.text)\n",
    "    \n",
    "    return doc"
   ]
  },
  {
   "cell_type": "code",
   "execution_count": 170,
   "metadata": {},
   "outputs": [],
   "source": [
    "pageno_1= get_pageno(24)\n",
    "book_contents= pageno_1.find_all('li', class_='bc-list-item productListItem')"
   ]
  },
  {
   "cell_type": "code",
   "execution_count": null,
   "metadata": {},
   "outputs": [],
   "source": []
  },
  {
   "cell_type": "code",
   "execution_count": 171,
   "metadata": {},
   "outputs": [],
   "source": [
    "def get_book_names(book_contents):\n",
    "    book_names= []\n",
    "    for tag in book_contents:\n",
    "            a_tag_name= tag.h3.find_all('a', recursive=False)\n",
    "            book_name= a_tag_name[0].text.strip()\n",
    "            book_names.append(book_name)\n",
    "    return book_names"
   ]
  },
  {
   "cell_type": "code",
   "execution_count": 172,
   "metadata": {
    "scrolled": true
   },
   "outputs": [
    {
     "data": {
      "text/plain": [
       "['Project Management',\n",
       " 'Startup Nation',\n",
       " 'Talk with Ted - A Show About Nothing',\n",
       " 'Communication Charm - Influence, Negotiation, Presence, Charisma',\n",
       " 'The Elephant in the Room',\n",
       " 'Insider Investing',\n",
       " 'The SaaS Podcast - SaaS, Startups, Growth Hacking & Entrepreneurship',\n",
       " \"Let's Get Down to Business\",\n",
       " 'The Case Interview Podcast',\n",
       " 'Augmented podcast - industrial conversations that matter',\n",
       " 'Machine Learning Engineered',\n",
       " 'a16z Podcast',\n",
       " 'Adventures in Machine Learning',\n",
       " 'Startup Era Show | Startup Business, Entrepreneurship & Digital Marketing',\n",
       " 'Classic Influence: Timeless Lessons from the Legends',\n",
       " 'Case Interview Preparation & Management Consulting | Strategy | Critical Thinking',\n",
       " 'The McKinsey Podcast',\n",
       " 'SEO Secrets - The Pathway To Higher Rankings, More Traffic, & More Sales from Google Search',\n",
       " '#Girlboss',\n",
       " 'Warren Buffett',\n",
       " 'Negocie como se sua vida dependesse disso [Never Split the Difference]',\n",
       " 'Hire with Your Head (4th Edition)',\n",
       " 'What It Means to Be a Courageous Leader',\n",
       " 'Hyperfocus (German edition)',\n",
       " 'The Innovation Ultimatum',\n",
       " 'Frontiers in Social Innovation',\n",
       " 'Converted',\n",
       " 'Woke Inc.',\n",
       " 'The Work-Life Balance Myth',\n",
       " 'The Antidote to Suffering',\n",
       " 'Think Like Zuck',\n",
       " 'Ganbatte!',\n",
       " 'What Is Six Sigma?',\n",
       " 'Market Research Like a Pro',\n",
       " 'Your Greatest Asset',\n",
       " 'Diversity Intelligence',\n",
       " 'Como chegar ao sim [Getting to Yes]',\n",
       " 'The Man Who Mistook His Job for His Life',\n",
       " 'From Paycheck to Purpose',\n",
       " 'The Business Playbook',\n",
       " 'The Samsung Way',\n",
       " 'Emotional Intelligence',\n",
       " 'The Dumb Things Smart People Do with Their Money',\n",
       " 'Reach for a Star and Generate Ideas for Innovation',\n",
       " '海外移住を実現する！オンライン講座・ビジネスの作り方',\n",
       " 'Savoir se vendre [Know How to Sell]',\n",
       " 'How to Get Your Act Together',\n",
       " 'The 8th Habit (Live)',\n",
       " 'Indian Startup Stories',\n",
       " 'Profit over Privacy']"
      ]
     },
     "execution_count": 172,
     "metadata": {},
     "output_type": "execute_result"
    }
   ],
   "source": [
    "get_book_names(book_contents)"
   ]
  },
  {
   "cell_type": "code",
   "execution_count": null,
   "metadata": {},
   "outputs": [],
   "source": []
  },
  {
   "cell_type": "code",
   "execution_count": 173,
   "metadata": {},
   "outputs": [],
   "source": [
    "def get_book_links(book_contents):\n",
    "    base_url='https://www.audible.in'\n",
    "    book_links=[]\n",
    "    for tag in book_contents:\n",
    "        a_tag_name= tag.h3.find_all('a', recursive=False)\n",
    "        url= a_tag_name[0]['href'].strip()\n",
    "        book_link= base_url+url\n",
    "        book_links.append(book_link)\n",
    "    return book_links"
   ]
  },
  {
   "cell_type": "code",
   "execution_count": null,
   "metadata": {},
   "outputs": [],
   "source": []
  },
  {
   "cell_type": "code",
   "execution_count": 174,
   "metadata": {
    "scrolled": true
   },
   "outputs": [
    {
     "data": {
      "text/plain": [
       "['https://www.audible.in/pd/Project-Management-Podcast/B08JKMDQXR',\n",
       " 'https://www.audible.in/pd/Podcast/B08JKMBWLR',\n",
       " 'https://www.audible.in/pd/Talk-with-Ted-A-Show-About-Nothing-Podcast/B08JKMB9FQ',\n",
       " 'https://www.audible.in/pd/Communication-Charm-Influence-Negotiation-Presence-Charisma-Podcast/B08JKLZYL4',\n",
       " 'https://www.audible.in/pd/The-Elephant-in-the-Room-Podcast/B08JKLZ2NV',\n",
       " 'https://www.audible.in/pd/Podcast/B08JKLDGTK',\n",
       " 'https://www.audible.in/pd/The-SaaS-Podcast-SaaS-Startups-Growth-Hacking-Entrepreneurship-Podcast/B08JKL8Z8M',\n",
       " 'https://www.audible.in/pd/Podcast/B08JKL6BVL',\n",
       " 'https://www.audible.in/pd/The-Case-Interview-Podcast-Podcast/B08JKKVH8T',\n",
       " 'https://www.audible.in/pd/Augmented-the-industry-40-podcast-Podcast/B08JKKPMQK',\n",
       " 'https://www.audible.in/pd/Machine-Learning-Engineered-Podcast/B08JKKMMC4',\n",
       " 'https://www.audible.in/pd/a16z-Podcast-Podcast/B08JKKCL3M',\n",
       " 'https://www.audible.in/pd/Adventures-in-Machine-Learning-Podcast/B08JKKBLYJ',\n",
       " 'https://www.audible.in/pd/Startup-Era-Show-Startup-Business-Entrepreneurship-Digital-Marketing-Podcast/B08JKK1L5B',\n",
       " 'https://www.audible.in/pd/Classic-Influence-Podcast-Timeless-Lessons-from-the-Legends-Podcast/B08JKJXWR8',\n",
       " 'https://www.audible.in/pd/Case-Interview-Preparation-Management-Consulting-Strategy-Critical-Thinking-Podcast/B08JKJVY5Y',\n",
       " 'https://www.audible.in/pd/The-McKinsey-Podcast-Podcast/B08JKJG4S4',\n",
       " 'https://www.audible.in/pd/SEO-Secrets-for-Explosive-Growth-in-Website-Traffic-Leads-and-Sales-from-Search-Podcast/B08JKJBPNJ',\n",
       " 'https://www.audible.in/pd/Girlboss-Audiobook/B07B4GRNRB',\n",
       " 'https://www.audible.in/pd/Warren-Buffett-Audiobook/1663712441',\n",
       " 'https://www.audible.in/pd/Negocie-como-se-sua-vida-dependesse-disso-Never-Split-the-Difference-Audiobook/B09SGRXH57',\n",
       " 'https://www.audible.in/pd/Hire-with-Your-Head-4th-Edition-Audiobook/B09HDRJLNS',\n",
       " 'https://www.audible.in/pd/What-It-Means-to-Be-a-Courageous-Leader-Audiobook/B09FQG2NJ4',\n",
       " 'https://www.audible.in/pd/Hyperfocus-German-edition-Audiobook/3962673725',\n",
       " 'https://www.audible.in/pd/The-Innovation-Ultimatum-Audiobook/B088C1PKLB',\n",
       " 'https://www.audible.in/pd/Frontiers-in-Social-Innovation-Audiobook/B09SRDN2M7',\n",
       " 'https://www.audible.in/pd/Converted-Audiobook/B097CJTBF8',\n",
       " 'https://www.audible.in/pd/Woke-Inc-Audiobook/B09FB4THKC',\n",
       " 'https://www.audible.in/pd/The-Work-Life-Balance-Myth-Audiobook/B09CHBWZXQ',\n",
       " 'https://www.audible.in/pd/The-Antidote-to-Suffering-Audiobook/1639297235',\n",
       " 'https://www.audible.in/pd/Think-Like-Zuck-Audiobook/1638418853',\n",
       " 'https://www.audible.in/pd/Ganbatte-Audiobook/B09W358N9Q',\n",
       " 'https://www.audible.in/pd/What-Is-Six-Sigma-Audiobook/1638419590',\n",
       " 'https://www.audible.in/pd/Market-Research-Like-a-Pro-Audiobook/B09HL69XQB',\n",
       " 'https://www.audible.in/pd/Your-Greatest-Asset-Audiobook/B09GL64SRN',\n",
       " 'https://www.audible.in/pd/Diversity-Intelligence-Audiobook/B09HN87FYQ',\n",
       " 'https://www.audible.in/pd/Como-chegar-ao-sim-Getting-to-Yes-Audiobook/B09SGS2ZKW',\n",
       " 'https://www.audible.in/pd/The-Man-Who-Mistook-His-Job-for-His-Life-Audiobook/B098KG39LL',\n",
       " 'https://www.audible.in/pd/From-Paycheck-to-Purpose-Audiobook/B09KM7XPL2',\n",
       " 'https://www.audible.in/pd/The-Business-Playbook-Audiobook/B09S8HL9K5',\n",
       " 'https://www.audible.in/pd/The-Samsung-Way-Audiobook/1638418217',\n",
       " 'https://www.audible.in/pd/Emotional-Intelligence-Audiobook/B09DJ1N6T6',\n",
       " 'https://www.audible.in/pd/The-Dumb-Things-Smart-People-Do-with-Their-Money-Audiobook/B07MCW1PCZ',\n",
       " 'https://www.audible.in/pd/Reach-for-a-Star-and-Generate-Ideas-for-Innovation-Audiobook/B09TFJ8HTJ',\n",
       " 'https://www.audible.in/pd/Audiobook/B09SNPTMV7',\n",
       " 'https://www.audible.in/pd/Savoir-se-vendre-Know-How-to-Sell-Audiobook/B09SBV4TZD',\n",
       " 'https://www.audible.in/pd/How-To-Get-Your-Act-Together-Audiobook/0241553563',\n",
       " 'https://www.audible.in/pd/The-8th-Habit-Live-Audiobook/B079VJQRJR',\n",
       " 'https://www.audible.in/pd/Indian-Startup-Stories-Podcast/B08K5JP1NY',\n",
       " 'https://www.audible.in/pd/Profit-over-Privacy-Audiobook/B09VMPWMPX']"
      ]
     },
     "execution_count": 174,
     "metadata": {},
     "output_type": "execute_result"
    }
   ],
   "source": [
    "get_book_links(book_contents)"
   ]
  },
  {
   "cell_type": "code",
   "execution_count": null,
   "metadata": {},
   "outputs": [],
   "source": []
  },
  {
   "cell_type": "code",
   "execution_count": 175,
   "metadata": {},
   "outputs": [],
   "source": [
    "def get_book_length(book_contents):\n",
    "    book_length=[]\n",
    "    for tag in book_contents:\n",
    "        try:\n",
    "            len_tag= tag.find('li', class_='bc-list-item runtimeLabel')\n",
    "            length_tag = len_tag.find('span')\n",
    "            length = length_tag.text.strip()\n",
    "            book_length.append(length)\n",
    "        except AttributeError:\n",
    "            book_length.append(None)\n",
    "    return book_length"
   ]
  },
  {
   "cell_type": "code",
   "execution_count": null,
   "metadata": {},
   "outputs": [],
   "source": []
  },
  {
   "cell_type": "code",
   "execution_count": 176,
   "metadata": {
    "scrolled": true
   },
   "outputs": [
    {
     "data": {
      "text/plain": [
       "[None,\n",
       " None,\n",
       " None,\n",
       " None,\n",
       " None,\n",
       " None,\n",
       " None,\n",
       " None,\n",
       " None,\n",
       " None,\n",
       " None,\n",
       " None,\n",
       " None,\n",
       " None,\n",
       " None,\n",
       " None,\n",
       " None,\n",
       " None,\n",
       " 'Length: 4 hrs and 40 mins',\n",
       " 'Length: 9 hrs and 50 mins',\n",
       " 'Length: 9 hrs and 30 mins',\n",
       " 'Length: 9 hrs and 56 mins',\n",
       " 'Length: 31 mins',\n",
       " 'Length: 7 hrs and 40 mins',\n",
       " 'Length: 10 hrs and 54 mins',\n",
       " 'Length: 14 hrs and 33 mins',\n",
       " 'Length: 3 hrs and 19 mins',\n",
       " 'Length: 10 hrs and 26 mins',\n",
       " 'Length: 7 hrs and 6 mins',\n",
       " 'Length: 7 hrs and 14 mins',\n",
       " 'Length: 6 hrs and 31 mins',\n",
       " 'Length: 2 hrs and 54 mins',\n",
       " 'Length: 2 hrs and 17 mins',\n",
       " 'Length: 48 mins',\n",
       " 'Length: 4 hrs and 4 mins',\n",
       " 'Length: 7 hrs and 21 mins',\n",
       " 'Length: 8 hrs and 6 mins',\n",
       " 'Length: 8 hrs and 45 mins',\n",
       " 'Length: 6 hrs and 4 mins',\n",
       " 'Length: 3 hrs and 17 mins',\n",
       " 'Length: 8 hrs and 45 mins',\n",
       " 'Length: 6 hrs and 38 mins',\n",
       " 'Length: 9 hrs and 16 mins',\n",
       " 'Length: 4 hrs and 19 mins',\n",
       " 'Length: 34 hrs and 56 mins',\n",
       " 'Length: 3 hrs and 6 mins',\n",
       " 'Length: 6 hrs and 59 mins',\n",
       " 'Length: 45 mins',\n",
       " None,\n",
       " 'Length: 6 hrs and 52 mins']"
      ]
     },
     "execution_count": 176,
     "metadata": {},
     "output_type": "execute_result"
    }
   ],
   "source": [
    "get_book_length(book_contents)"
   ]
  },
  {
   "cell_type": "code",
   "execution_count": null,
   "metadata": {},
   "outputs": [],
   "source": []
  },
  {
   "cell_type": "code",
   "execution_count": 177,
   "metadata": {},
   "outputs": [],
   "source": [
    "def get_written_by(book_contents):\n",
    "    written_by=[]\n",
    "    for tag in book_contents:\n",
    "        author_tag= tag.find('li', class_='bc-list-item authorLabel')\n",
    "        try:\n",
    "            auth_tag = author_tag.find('a')\n",
    "            author = auth_tag.text.strip()\n",
    "            written_by.append(author)\n",
    "        except AttributeError:\n",
    "            written_by.append(None)\n",
    "    return written_by"
   ]
  },
  {
   "cell_type": "code",
   "execution_count": null,
   "metadata": {},
   "outputs": [],
   "source": []
  },
  {
   "cell_type": "code",
   "execution_count": 178,
   "metadata": {
    "scrolled": true
   },
   "outputs": [
    {
     "data": {
      "text/plain": [
       "[None,\n",
       " None,\n",
       " None,\n",
       " None,\n",
       " None,\n",
       " None,\n",
       " None,\n",
       " None,\n",
       " None,\n",
       " None,\n",
       " None,\n",
       " None,\n",
       " None,\n",
       " None,\n",
       " None,\n",
       " None,\n",
       " None,\n",
       " None,\n",
       " 'Sophia Amoruso',\n",
       " 'Robert G. Hagstrom',\n",
       " 'Chris Voss',\n",
       " 'Lou Adler',\n",
       " 'Minda Harts',\n",
       " 'Chris Bailey',\n",
       " 'Steve Brown',\n",
       " 'Neil Malhotra - editor',\n",
       " 'Neil Hoyne',\n",
       " 'Vivek Ramaswamy',\n",
       " 'David J. McNeff',\n",
       " 'Christina Dempsey',\n",
       " 'Ekaterina Walter',\n",
       " 'Albert Liebermann',\n",
       " 'Peter S. Pande',\n",
       " 'Pooja Agnihotri',\n",
       " 'Earl Nightingale',\n",
       " 'Heidi R. Andersen',\n",
       " 'Roger Fisher',\n",
       " 'Naomi Shragai',\n",
       " 'Ken Coleman',\n",
       " 'Chris Ronzio',\n",
       " 'Jaeyong Song',\n",
       " 'Amy Jacobson',\n",
       " 'Jill Schlesinger',\n",
       " 'Carlos S. Monsiváis',\n",
       " '石崎 力也',\n",
       " 'Joe Girard',\n",
       " 'Suki Sandhu',\n",
       " 'Stephen R. Covey',\n",
       " None,\n",
       " 'Matthew Crain']"
      ]
     },
     "execution_count": 178,
     "metadata": {},
     "output_type": "execute_result"
    }
   ],
   "source": [
    "get_written_by(book_contents)"
   ]
  },
  {
   "cell_type": "code",
   "execution_count": null,
   "metadata": {},
   "outputs": [],
   "source": []
  },
  {
   "cell_type": "code",
   "execution_count": 179,
   "metadata": {},
   "outputs": [],
   "source": [
    "def get_description(book_contents):\n",
    "    description=[]\n",
    "    for tag in book_contents:\n",
    "        about_tag= tag.find('li', class_='bc-list-item subtitle')\n",
    "        try:\n",
    "            description_tag = about_tag.find('span').text.strip()\n",
    "            description.append(description_tag)\n",
    "        except AttributeError:\n",
    "            description.append(None)\n",
    "    return description"
   ]
  },
  {
   "cell_type": "code",
   "execution_count": null,
   "metadata": {},
   "outputs": [],
   "source": []
  },
  {
   "cell_type": "code",
   "execution_count": 180,
   "metadata": {
    "scrolled": true
   },
   "outputs": [
    {
     "data": {
      "text/plain": [
       "[None,\n",
       " None,\n",
       " None,\n",
       " None,\n",
       " None,\n",
       " None,\n",
       " None,\n",
       " None,\n",
       " None,\n",
       " None,\n",
       " None,\n",
       " None,\n",
       " None,\n",
       " None,\n",
       " None,\n",
       " None,\n",
       " None,\n",
       " None,\n",
       " None,\n",
       " 'Inside the Ultimate Money Mind',\n",
       " \"Um ex-agente do FBI revela as técnicas da agência para convencer as pessoas [A Former FBI Agent Reveals the Agency's Techniques to Convince People]\",\n",
       " 'Using Performance-Based Hiring to Build Outstanding Diverse Teams',\n",
       " None,\n",
       " 'Wie man weniger arbeitet und mehr erreicht',\n",
       " 'How Six Strategic Technologies Will Reshape Every Business in the 2020s',\n",
       " 'The Essential Handbook for Creating, Deploying, and Sustaining Creative Solutions to Systemic Problems',\n",
       " \"The Data-Driven Way to Win Customers' Hearts\",\n",
       " 'Inside the Social Justice Scam',\n",
       " 'Rethinking Your Optimal Balance for Success',\n",
       " 'How Compassionate Connected Care Can Improve Safety, Quality, and Experience',\n",
       " \"The Five Business Secrets of Facebook's Improbably Brilliant CEO Mark Zuckerberg\",\n",
       " 'The Japanese Art of Always Moving Forward',\n",
       " None,\n",
       " 'The Easiest Guide to Market Research',\n",
       " 'Creative Vision and Empowered Communication',\n",
       " 'How to Create a Culture of Inclusion for Your Business',\n",
       " 'Como negociar acordos sem fazer concessões [How to Negotiate Agreements Without Making Concessions]',\n",
       " 'How to Thrive at Work by Leaving Your Emotional Baggage Behind',\n",
       " 'The Clear Path to Doing Work You Love',\n",
       " 'How to Document and Delegate What You Do So Your Company Can Grow Beyond You',\n",
       " 'Transformational Management Strategies from the World Leader in Innovation and Design',\n",
       " 'A Simple and Actionable Guide to Increasing Performance, Engagement and Ownership',\n",
       " 'Thirteen Ways to Right Your Financial Wrongs',\n",
       " 'Tools for Creating Your Innovation Project for Business or School',\n",
       " 'オンラインコース制作はこれ一冊',\n",
       " 'Le plus grand vendeur du monde [The Biggest Seller in the World]',\n",
       " 'A Judgement-Free Guide to Diversity and Inclusion for Straight White Men',\n",
       " None,\n",
       " None,\n",
       " 'How Surveillance Advertising Conquered the Internet']"
      ]
     },
     "execution_count": 180,
     "metadata": {},
     "output_type": "execute_result"
    }
   ],
   "source": [
    "get_description(book_contents)"
   ]
  },
  {
   "cell_type": "code",
   "execution_count": null,
   "metadata": {},
   "outputs": [],
   "source": []
  },
  {
   "cell_type": "code",
   "execution_count": 181,
   "metadata": {},
   "outputs": [],
   "source": [
    "def get_language(book_contents):\n",
    "    language=[]\n",
    "    for tag in book_contents:\n",
    "        lang_tag= tag.find('li', class_='bc-list-item languageLabel')\n",
    "        try:\n",
    "            language_tag = lang_tag.find('span').text.split()\n",
    "            language.append(language_tag)\n",
    "        except AttributeError:\n",
    "            language.append(None)\n",
    "    return language"
   ]
  },
  {
   "cell_type": "code",
   "execution_count": null,
   "metadata": {},
   "outputs": [],
   "source": []
  },
  {
   "cell_type": "code",
   "execution_count": 182,
   "metadata": {
    "scrolled": true
   },
   "outputs": [
    {
     "data": {
      "text/plain": [
       "[None,\n",
       " None,\n",
       " None,\n",
       " None,\n",
       " None,\n",
       " None,\n",
       " None,\n",
       " None,\n",
       " None,\n",
       " None,\n",
       " None,\n",
       " None,\n",
       " None,\n",
       " None,\n",
       " None,\n",
       " None,\n",
       " None,\n",
       " None,\n",
       " ['Language:', 'English'],\n",
       " ['Language:', 'English'],\n",
       " ['Language:', 'portuguese'],\n",
       " ['Language:', 'English'],\n",
       " ['Language:', 'English'],\n",
       " ['Language:', 'german'],\n",
       " ['Language:', 'English'],\n",
       " ['Language:', 'English'],\n",
       " ['Language:', 'English'],\n",
       " ['Language:', 'English'],\n",
       " ['Language:', 'English'],\n",
       " ['Language:', 'English'],\n",
       " ['Language:', 'English'],\n",
       " ['Language:', 'English'],\n",
       " ['Language:', 'English'],\n",
       " ['Language:', 'English'],\n",
       " ['Language:', 'English'],\n",
       " ['Language:', 'English'],\n",
       " ['Language:', 'portuguese'],\n",
       " ['Language:', 'English'],\n",
       " ['Language:', 'English'],\n",
       " ['Language:', 'English'],\n",
       " ['Language:', 'English'],\n",
       " ['Language:', 'English'],\n",
       " ['Language:', 'English'],\n",
       " ['Language:', 'English'],\n",
       " ['Language:', 'japanese'],\n",
       " ['Language:', 'french'],\n",
       " ['Language:', 'English'],\n",
       " ['Language:', 'English'],\n",
       " None,\n",
       " ['Language:', 'English']]"
      ]
     },
     "execution_count": 182,
     "metadata": {},
     "output_type": "execute_result"
    }
   ],
   "source": [
    "get_language(book_contents)"
   ]
  },
  {
   "cell_type": "code",
   "execution_count": null,
   "metadata": {},
   "outputs": [],
   "source": []
  },
  {
   "cell_type": "code",
   "execution_count": 183,
   "metadata": {},
   "outputs": [],
   "source": [
    "def get_rating(book_contents):\n",
    "    rating=[]\n",
    "    for tag in book_contents:\n",
    "        star_tag= tag.find('li', class_='bc-list-item ratingsLabel')\n",
    "        try:\n",
    "            rating_tag = star_tag.find('span', class_='bc-text bc-pub-offscreen').text.strip()\n",
    "            rating.append(rating_tag)\n",
    "        except AttributeError:\n",
    "            rating.append(None)\n",
    "    return rating"
   ]
  },
  {
   "cell_type": "code",
   "execution_count": null,
   "metadata": {},
   "outputs": [],
   "source": []
  },
  {
   "cell_type": "code",
   "execution_count": 184,
   "metadata": {
    "scrolled": true
   },
   "outputs": [
    {
     "data": {
      "text/plain": [
       "[None,\n",
       " None,\n",
       " None,\n",
       " None,\n",
       " None,\n",
       " None,\n",
       " None,\n",
       " None,\n",
       " None,\n",
       " None,\n",
       " None,\n",
       " None,\n",
       " None,\n",
       " None,\n",
       " None,\n",
       " None,\n",
       " None,\n",
       " None,\n",
       " '4 out of 5 stars',\n",
       " '4.5 out of 5 stars',\n",
       " None,\n",
       " None,\n",
       " '3.5 out of 5 stars',\n",
       " None,\n",
       " '5 out of 5 stars',\n",
       " None,\n",
       " None,\n",
       " '5 out of 5 stars',\n",
       " None,\n",
       " None,\n",
       " None,\n",
       " None,\n",
       " '5 out of 5 stars',\n",
       " '4 out of 5 stars',\n",
       " None,\n",
       " None,\n",
       " None,\n",
       " None,\n",
       " None,\n",
       " None,\n",
       " None,\n",
       " None,\n",
       " '4.5 out of 5 stars',\n",
       " None,\n",
       " None,\n",
       " None,\n",
       " None,\n",
       " '4 out of 5 stars',\n",
       " None,\n",
       " None]"
      ]
     },
     "execution_count": 184,
     "metadata": {},
     "output_type": "execute_result"
    }
   ],
   "source": [
    "get_rating(book_contents)"
   ]
  },
  {
   "cell_type": "code",
   "execution_count": null,
   "metadata": {},
   "outputs": [],
   "source": []
  },
  {
   "cell_type": "code",
   "execution_count": 185,
   "metadata": {},
   "outputs": [],
   "source": [
    "def get_no_of_ratings(book_contents):\n",
    "    no_of_ratings=[]\n",
    "    for tag in book_contents:\n",
    "        star_tag= tag.find('li', class_='bc-list-item ratingsLabel')\n",
    "        try:\n",
    "            rating_tag = star_tag.find('span', class_='bc-text bc-size-small bc-color-secondary').text.strip()\n",
    "            no_of_ratings.append(rating_tag)\n",
    "        except AttributeError:\n",
    "            no_of_ratings.append(None)\n",
    "    return no_of_ratings"
   ]
  },
  {
   "cell_type": "code",
   "execution_count": null,
   "metadata": {},
   "outputs": [],
   "source": []
  },
  {
   "cell_type": "code",
   "execution_count": 186,
   "metadata": {
    "scrolled": true
   },
   "outputs": [
    {
     "data": {
      "text/plain": [
       "['Not rated yet',\n",
       " 'Not rated yet',\n",
       " 'Not rated yet',\n",
       " 'Not rated yet',\n",
       " 'Not rated yet',\n",
       " 'Not rated yet',\n",
       " 'Not rated yet',\n",
       " 'Not rated yet',\n",
       " 'Not rated yet',\n",
       " 'Not rated yet',\n",
       " 'Not rated yet',\n",
       " 'Not rated yet',\n",
       " 'Not rated yet',\n",
       " 'Not rated yet',\n",
       " 'Not rated yet',\n",
       " 'Not rated yet',\n",
       " 'Not rated yet',\n",
       " 'Not rated yet',\n",
       " '8 ratings',\n",
       " '4 ratings',\n",
       " 'Not rated yet',\n",
       " 'Not rated yet',\n",
       " '11 ratings',\n",
       " 'Not rated yet',\n",
       " '4 ratings',\n",
       " 'Not rated yet',\n",
       " 'Not rated yet',\n",
       " '3 ratings',\n",
       " 'Not rated yet',\n",
       " 'Not rated yet',\n",
       " 'Not rated yet',\n",
       " 'Not rated yet',\n",
       " '1 rating',\n",
       " '1 rating',\n",
       " 'Not rated yet',\n",
       " 'Not rated yet',\n",
       " 'Not rated yet',\n",
       " 'Not rated yet',\n",
       " 'Not rated yet',\n",
       " 'Not rated yet',\n",
       " 'Not rated yet',\n",
       " 'Not rated yet',\n",
       " '8 ratings',\n",
       " 'Not rated yet',\n",
       " 'Not rated yet',\n",
       " 'Not rated yet',\n",
       " 'Not rated yet',\n",
       " '26 ratings',\n",
       " 'Not rated yet',\n",
       " 'Not rated yet']"
      ]
     },
     "execution_count": 186,
     "metadata": {},
     "output_type": "execute_result"
    }
   ],
   "source": [
    "get_no_of_ratings(book_contents)"
   ]
  },
  {
   "cell_type": "code",
   "execution_count": null,
   "metadata": {},
   "outputs": [],
   "source": []
  },
  {
   "cell_type": "code",
   "execution_count": 187,
   "metadata": {},
   "outputs": [],
   "source": [
    "def get_regular_price(book_contents):\n",
    "    regular_price=[]\n",
    "    for tag in book_contents:\n",
    "        buy_tag= tag.find('p', class_='bc-text buybox-regular-price bc-spacing-none bc-spacing-top-none')\n",
    "        try:\n",
    "            price_tag = buy_tag.find_all('span', class_='bc-text bc-size-base bc-color-base')\n",
    "            price= price_tag[1].text.strip()\n",
    "            regular_price.append(price)\n",
    "        except AttributeError:\n",
    "            regular_price.append(None)\n",
    "    return regular_price"
   ]
  },
  {
   "cell_type": "code",
   "execution_count": null,
   "metadata": {},
   "outputs": [],
   "source": []
  },
  {
   "cell_type": "code",
   "execution_count": 188,
   "metadata": {
    "scrolled": true
   },
   "outputs": [
    {
     "data": {
      "text/plain": [
       "[None,\n",
       " None,\n",
       " None,\n",
       " None,\n",
       " None,\n",
       " None,\n",
       " None,\n",
       " None,\n",
       " None,\n",
       " None,\n",
       " None,\n",
       " None,\n",
       " None,\n",
       " None,\n",
       " None,\n",
       " None,\n",
       " None,\n",
       " None,\n",
       " '₹615.00',\n",
       " '₹586.00',\n",
       " '₹164.00',\n",
       " '₹586.00',\n",
       " '₹233.00',\n",
       " '₹568.00',\n",
       " '₹586.00',\n",
       " '₹703.00',\n",
       " '₹754.00',\n",
       " '₹759.00',\n",
       " '₹586.00',\n",
       " '₹586.00',\n",
       " '₹586.00',\n",
       " '₹398.00',\n",
       " '₹351.00',\n",
       " '₹234.00',\n",
       " '₹1,003.00',\n",
       " '₹586.00',\n",
       " '₹164.00',\n",
       " '₹888.00',\n",
       " '₹668.00',\n",
       " '₹469.00',\n",
       " '₹586.00',\n",
       " '₹586.00',\n",
       " '₹1,005.00',\n",
       " '₹568.00',\n",
       " '₹1,395.00',\n",
       " '₹363.00',\n",
       " '₹615.00',\n",
       " '₹304.00',\n",
       " None,\n",
       " '₹586.00']"
      ]
     },
     "execution_count": 188,
     "metadata": {},
     "output_type": "execute_result"
    }
   ],
   "source": [
    "get_regular_price(book_contents)"
   ]
  },
  {
   "cell_type": "code",
   "execution_count": null,
   "metadata": {},
   "outputs": [],
   "source": []
  },
  {
   "cell_type": "code",
   "execution_count": 189,
   "metadata": {},
   "outputs": [],
   "source": [
    "def get_cover_img(book_contents):\n",
    "    cover_img=[]\n",
    "    for tag in book_contents:\n",
    "        img_tag= tag.find_all('img', class_='bc-pub-block bc-image-inset-border js-only-element')\n",
    "        try:\n",
    "            #price_tag = img_tag.find('span', class_='bc-text bc-size-base bc-color-base')\n",
    "            book_image_url= img_tag[0]['src'].strip()\n",
    "            cover_img.append(book_image_url)\n",
    "        except AttributeError:\n",
    "            cover_img.append(None)\n",
    "    return cover_img"
   ]
  },
  {
   "cell_type": "code",
   "execution_count": null,
   "metadata": {},
   "outputs": [],
   "source": []
  },
  {
   "cell_type": "code",
   "execution_count": 190,
   "metadata": {
    "scrolled": true
   },
   "outputs": [
    {
     "data": {
      "text/plain": [
       "['https://m.media-amazon.com/images/I/41hxEX0QtSS._SL500_.jpg',\n",
       " 'https://m.media-amazon.com/images/I/31Sj1TU4icS._SL500_.jpg',\n",
       " 'https://m.media-amazon.com/images/I/51Dn7zu5HsS._SL500_.jpg',\n",
       " 'https://m.media-amazon.com/images/I/41VNnS19XWS._SL500_.jpg',\n",
       " 'https://m.media-amazon.com/images/I/41LJ36QPJ5S._SL500_.jpg',\n",
       " 'https://m.media-amazon.com/images/I/41SRcn-iLTL._SL500_.jpg',\n",
       " 'https://m.media-amazon.com/images/I/41d76Ssd4NL._SL500_.jpg',\n",
       " 'https://m.media-amazon.com/images/I/51qgoisVutS._SL500_.jpg',\n",
       " 'https://m.media-amazon.com/images/I/41zi-MhxY1L._SL500_.jpg',\n",
       " 'https://m.media-amazon.com/images/I/41SCP2yQl9L._SL500_.jpg',\n",
       " 'https://m.media-amazon.com/images/I/51vOrhK8yGS._SL500_.jpg',\n",
       " 'https://m.media-amazon.com/images/I/510vhr-x++S._SL500_.jpg',\n",
       " 'https://m.media-amazon.com/images/I/51hS6VOUAML._SL500_.jpg',\n",
       " 'https://m.media-amazon.com/images/I/41t2GRh+lcS._SL500_.jpg',\n",
       " 'https://m.media-amazon.com/images/I/51pne+9xZvS._SL500_.jpg',\n",
       " 'https://m.media-amazon.com/images/I/41t3tu3PF5L._SL500_.jpg',\n",
       " 'https://m.media-amazon.com/images/I/51-JUrcMwMS._SL500_.jpg',\n",
       " 'https://m.media-amazon.com/images/I/41kMVH6eWyL._SL500_.jpg',\n",
       " 'https://m.media-amazon.com/images/I/51ZC-zHE6ZL._SL500_.jpg',\n",
       " 'https://m.media-amazon.com/images/I/51c1CaVkQJL._SL500_.jpg',\n",
       " 'https://m.media-amazon.com/images/I/51NlVkxywiL._SL500_.jpg',\n",
       " 'https://m.media-amazon.com/images/I/41hk7EszwmL._SL500_.jpg',\n",
       " 'https://m.media-amazon.com/images/I/51tWjmKtoWL._SL500_.jpg',\n",
       " 'https://m.media-amazon.com/images/I/41pn49ph8qS._SL500_.jpg',\n",
       " 'https://m.media-amazon.com/images/I/51d7ghqWCiL._SL500_.jpg',\n",
       " 'https://m.media-amazon.com/images/I/51VbY5tSEXL._SL500_.jpg',\n",
       " 'https://m.media-amazon.com/images/I/41A7nJTUTXL._SL500_.jpg',\n",
       " 'https://m.media-amazon.com/images/I/41EbS2T01kL._SL500_.jpg',\n",
       " 'https://m.media-amazon.com/images/I/51yMGil0ldL._SL500_.jpg',\n",
       " 'https://m.media-amazon.com/images/I/51+BGKYQ+LL._SL500_.jpg',\n",
       " 'https://m.media-amazon.com/images/I/41xjEeHV0RL._SL500_.jpg',\n",
       " 'https://m.media-amazon.com/images/I/41085kMCZ0L._SL500_.jpg',\n",
       " 'https://m.media-amazon.com/images/I/41QCi1aRBJL._SL500_.jpg',\n",
       " 'https://m.media-amazon.com/images/I/61V2vqRj1SL._SL500_.jpg',\n",
       " 'https://m.media-amazon.com/images/I/415kxyNsRdL._SL500_.jpg',\n",
       " 'https://m.media-amazon.com/images/I/41-9YE8wnNL._SL500_.jpg',\n",
       " 'https://m.media-amazon.com/images/I/41NaPw5uxcL._SL500_.jpg',\n",
       " 'https://m.media-amazon.com/images/I/410ZHV7pWDS._SL500_.jpg',\n",
       " 'https://m.media-amazon.com/images/I/51rvBgy3fxL._SL500_.jpg',\n",
       " 'https://m.media-amazon.com/images/I/51ayHAAQSpL._SL500_.jpg',\n",
       " 'https://m.media-amazon.com/images/I/51sGAJasAqL._SL500_.jpg',\n",
       " 'https://m.media-amazon.com/images/I/4155g4IzesL._SL500_.jpg',\n",
       " 'https://m.media-amazon.com/images/I/5188Sm0OuVL._SL500_.jpg',\n",
       " 'https://m.media-amazon.com/images/I/51EnU0l1noL._SL500_.jpg',\n",
       " 'https://m.media-amazon.com/images/I/51tMGdL+8eL._SL500_.jpg',\n",
       " 'https://m.media-amazon.com/images/I/51GyPgNvU1L._SL500_.jpg',\n",
       " 'https://m.media-amazon.com/images/I/41S+wVCOcNL._SL500_.jpg',\n",
       " 'https://m.media-amazon.com/images/I/51fwK6blFHL._SL500_.jpg',\n",
       " 'https://m.media-amazon.com/images/I/51dwRb-5HJL._SL500_.jpg',\n",
       " 'https://m.media-amazon.com/images/I/41SXSBiFu0L._SL500_.jpg']"
      ]
     },
     "execution_count": 190,
     "metadata": {},
     "output_type": "execute_result"
    }
   ],
   "source": [
    "get_cover_img(book_contents)"
   ]
  },
  {
   "cell_type": "code",
   "execution_count": null,
   "metadata": {},
   "outputs": [],
   "source": []
  },
  {
   "cell_type": "code",
   "execution_count": 191,
   "metadata": {},
   "outputs": [],
   "source": [
    "def parse_all_pages(end_page):\n",
    "    all_page_contents = {\n",
    "            'Book_Name':[],\n",
    "            'Description':[],\n",
    "            'Author':[],\n",
    "            'Rating':[],\n",
    "            'No_of_Ratings':[],\n",
    "            'Regular_Price':[],\n",
    "            'Language':[],\n",
    "            'Book_Audio_Length':[],\n",
    "            'Cover_IMG':[],\n",
    "            'Book_URL':[],\n",
    "            }    \n",
    "    for page in range (0,end_page):\n",
    "        pageno_x = get_pageno(page)\n",
    "        book_contents = pageno_x.find_all('li', class_='bc-list-item productListItem')\n",
    "        all_page_contents['Book_Name'] += get_book_names(book_contents)\n",
    "        all_page_contents['Description'] += get_description(book_contents)\n",
    "        all_page_contents['Author'] += get_written_by(book_contents)\n",
    "        all_page_contents['Rating'] += get_rating(book_contents)\n",
    "        all_page_contents['No_of_Ratings'] += get_no_of_ratings(book_contents)\n",
    "        all_page_contents['Regular_Price'] += get_regular_price(book_contents)\n",
    "        all_page_contents['Language'] += get_language(book_contents)\n",
    "        all_page_contents['Book_Audio_Length'] += get_book_length(book_contents)\n",
    "        all_page_contents['Cover_IMG'] += get_cover_img(book_contents)\n",
    "        all_page_contents['Book_URL'] += get_book_links(book_contents)\n",
    "        page = page + 1\n",
    "    return all_page_contents"
   ]
  },
  {
   "cell_type": "code",
   "execution_count": null,
   "metadata": {},
   "outputs": [],
   "source": []
  },
  {
   "cell_type": "code",
   "execution_count": 192,
   "metadata": {},
   "outputs": [
    {
     "data": {
      "text/html": [
       "<div>\n",
       "<style scoped>\n",
       "    .dataframe tbody tr th:only-of-type {\n",
       "        vertical-align: middle;\n",
       "    }\n",
       "\n",
       "    .dataframe tbody tr th {\n",
       "        vertical-align: top;\n",
       "    }\n",
       "\n",
       "    .dataframe thead th {\n",
       "        text-align: right;\n",
       "    }\n",
       "</style>\n",
       "<table border=\"1\" class=\"dataframe\">\n",
       "  <thead>\n",
       "    <tr style=\"text-align: right;\">\n",
       "      <th></th>\n",
       "      <th>Book_Name</th>\n",
       "      <th>Description</th>\n",
       "      <th>Author</th>\n",
       "      <th>Rating</th>\n",
       "      <th>No_of_Ratings</th>\n",
       "      <th>Regular_Price</th>\n",
       "      <th>Language</th>\n",
       "      <th>Book_Audio_Length</th>\n",
       "      <th>Cover_IMG</th>\n",
       "      <th>Book_URL</th>\n",
       "    </tr>\n",
       "  </thead>\n",
       "  <tbody>\n",
       "    <tr>\n",
       "      <th>0</th>\n",
       "      <td>The Everyday Hero Manifesto</td>\n",
       "      <td>Activate Your Positivity, Maximize Your Produc...</td>\n",
       "      <td>Robin Sharma</td>\n",
       "      <td>None</td>\n",
       "      <td>Not rated yet</td>\n",
       "      <td>₹1,519.00</td>\n",
       "      <td>[Language:, English]</td>\n",
       "      <td>Length: 9 hrs and 27 mins</td>\n",
       "      <td>https://m.media-amazon.com/images/I/51LP52ob7C...</td>\n",
       "      <td>https://www.audible.in/pd/The-Everyday-Hero-Ma...</td>\n",
       "    </tr>\n",
       "    <tr>\n",
       "      <th>1</th>\n",
       "      <td>Start with Why</td>\n",
       "      <td>How Great Leaders Inspire Everyone To Take Action</td>\n",
       "      <td>Simon Sinek</td>\n",
       "      <td>4.5 out of 5 stars</td>\n",
       "      <td>84 ratings</td>\n",
       "      <td>₹888.00</td>\n",
       "      <td>[Language:, English]</td>\n",
       "      <td>Length: 7 hrs and 18 mins</td>\n",
       "      <td>https://m.media-amazon.com/images/I/41Px2q4eSi...</td>\n",
       "      <td>https://www.audible.in/pd/Start-with-Why-Audio...</td>\n",
       "    </tr>\n",
       "    <tr>\n",
       "      <th>2</th>\n",
       "      <td>HBR at 100</td>\n",
       "      <td>The Most Influential and Innovative Articles f...</td>\n",
       "      <td>Harvard Business Review</td>\n",
       "      <td>None</td>\n",
       "      <td>Not rated yet</td>\n",
       "      <td>₹703.00</td>\n",
       "      <td>[Language:, English]</td>\n",
       "      <td>Length: 17 hrs and 7 mins</td>\n",
       "      <td>https://m.media-amazon.com/images/I/41xwPia5dA...</td>\n",
       "      <td>https://www.audible.in/pd/HBR-at-100-Audiobook...</td>\n",
       "    </tr>\n",
       "    <tr>\n",
       "      <th>3</th>\n",
       "      <td>The Design of Everyday Things</td>\n",
       "      <td>Revised and Expanded Edition</td>\n",
       "      <td>Don Norman</td>\n",
       "      <td>4.5 out of 5 stars</td>\n",
       "      <td>129 ratings</td>\n",
       "      <td>₹500.00</td>\n",
       "      <td>[Language:, English]</td>\n",
       "      <td>Length: 10 hrs and 39 mins</td>\n",
       "      <td>https://m.media-amazon.com/images/I/51Dl6lXXes...</td>\n",
       "      <td>https://www.audible.in/pd/The-Design-of-Everyd...</td>\n",
       "    </tr>\n",
       "    <tr>\n",
       "      <th>4</th>\n",
       "      <td>Trading in the Zone</td>\n",
       "      <td>Master the Market with Confidence, Discipline,...</td>\n",
       "      <td>Mark Douglas</td>\n",
       "      <td>4.5 out of 5 stars</td>\n",
       "      <td>545 ratings</td>\n",
       "      <td>₹879.00</td>\n",
       "      <td>[Language:, English]</td>\n",
       "      <td>Length: 7 hrs and 57 mins</td>\n",
       "      <td>https://m.media-amazon.com/images/I/51+8mBt4k7...</td>\n",
       "      <td>https://www.audible.in/pd/Trading-in-the-Zone-...</td>\n",
       "    </tr>\n",
       "    <tr>\n",
       "      <th>...</th>\n",
       "      <td>...</td>\n",
       "      <td>...</td>\n",
       "      <td>...</td>\n",
       "      <td>...</td>\n",
       "      <td>...</td>\n",
       "      <td>...</td>\n",
       "      <td>...</td>\n",
       "      <td>...</td>\n",
       "      <td>...</td>\n",
       "      <td>...</td>\n",
       "    </tr>\n",
       "    <tr>\n",
       "      <th>1175</th>\n",
       "      <td>Insider Investing</td>\n",
       "      <td>None</td>\n",
       "      <td>None</td>\n",
       "      <td>None</td>\n",
       "      <td>Not rated yet</td>\n",
       "      <td>None</td>\n",
       "      <td>None</td>\n",
       "      <td>None</td>\n",
       "      <td>https://m.media-amazon.com/images/I/41SRcn-iLT...</td>\n",
       "      <td>https://www.audible.in/pd/Podcast/B08JKLDGTK</td>\n",
       "    </tr>\n",
       "    <tr>\n",
       "      <th>1176</th>\n",
       "      <td>Let's Get Down to Business</td>\n",
       "      <td>None</td>\n",
       "      <td>None</td>\n",
       "      <td>None</td>\n",
       "      <td>Not rated yet</td>\n",
       "      <td>None</td>\n",
       "      <td>None</td>\n",
       "      <td>None</td>\n",
       "      <td>https://m.media-amazon.com/images/I/51qgoisVut...</td>\n",
       "      <td>https://www.audible.in/pd/Podcast/B08JKL6BVL</td>\n",
       "    </tr>\n",
       "    <tr>\n",
       "      <th>1177</th>\n",
       "      <td>The Case Interview Podcast</td>\n",
       "      <td>None</td>\n",
       "      <td>None</td>\n",
       "      <td>None</td>\n",
       "      <td>Not rated yet</td>\n",
       "      <td>None</td>\n",
       "      <td>None</td>\n",
       "      <td>None</td>\n",
       "      <td>https://m.media-amazon.com/images/I/41zi-MhxY1...</td>\n",
       "      <td>https://www.audible.in/pd/The-Case-Interview-P...</td>\n",
       "    </tr>\n",
       "    <tr>\n",
       "      <th>1178</th>\n",
       "      <td>Augmented podcast - industrial conversations t...</td>\n",
       "      <td>None</td>\n",
       "      <td>None</td>\n",
       "      <td>None</td>\n",
       "      <td>Not rated yet</td>\n",
       "      <td>None</td>\n",
       "      <td>None</td>\n",
       "      <td>None</td>\n",
       "      <td>https://m.media-amazon.com/images/I/41SCP2yQl9...</td>\n",
       "      <td>https://www.audible.in/pd/Augmented-the-indust...</td>\n",
       "    </tr>\n",
       "    <tr>\n",
       "      <th>1179</th>\n",
       "      <td>Product Thinking</td>\n",
       "      <td>None</td>\n",
       "      <td>None</td>\n",
       "      <td>None</td>\n",
       "      <td>Not rated yet</td>\n",
       "      <td>None</td>\n",
       "      <td>None</td>\n",
       "      <td>None</td>\n",
       "      <td>https://m.media-amazon.com/images/I/41Y+Rt2yAw...</td>\n",
       "      <td>https://www.audible.in/pd/Podcast/B08JKKNY4V</td>\n",
       "    </tr>\n",
       "  </tbody>\n",
       "</table>\n",
       "<p>1180 rows × 10 columns</p>\n",
       "</div>"
      ],
      "text/plain": [
       "                                              Book_Name  \\\n",
       "0                           The Everyday Hero Manifesto   \n",
       "1                                        Start with Why   \n",
       "2                                            HBR at 100   \n",
       "3                         The Design of Everyday Things   \n",
       "4                                   Trading in the Zone   \n",
       "...                                                 ...   \n",
       "1175                                  Insider Investing   \n",
       "1176                         Let's Get Down to Business   \n",
       "1177                         The Case Interview Podcast   \n",
       "1178  Augmented podcast - industrial conversations t...   \n",
       "1179                                   Product Thinking   \n",
       "\n",
       "                                            Description  \\\n",
       "0     Activate Your Positivity, Maximize Your Produc...   \n",
       "1     How Great Leaders Inspire Everyone To Take Action   \n",
       "2     The Most Influential and Innovative Articles f...   \n",
       "3                          Revised and Expanded Edition   \n",
       "4     Master the Market with Confidence, Discipline,...   \n",
       "...                                                 ...   \n",
       "1175                                               None   \n",
       "1176                                               None   \n",
       "1177                                               None   \n",
       "1178                                               None   \n",
       "1179                                               None   \n",
       "\n",
       "                       Author              Rating  No_of_Ratings  \\\n",
       "0                Robin Sharma                None  Not rated yet   \n",
       "1                 Simon Sinek  4.5 out of 5 stars     84 ratings   \n",
       "2     Harvard Business Review                None  Not rated yet   \n",
       "3                  Don Norman  4.5 out of 5 stars    129 ratings   \n",
       "4                Mark Douglas  4.5 out of 5 stars    545 ratings   \n",
       "...                       ...                 ...            ...   \n",
       "1175                     None                None  Not rated yet   \n",
       "1176                     None                None  Not rated yet   \n",
       "1177                     None                None  Not rated yet   \n",
       "1178                     None                None  Not rated yet   \n",
       "1179                     None                None  Not rated yet   \n",
       "\n",
       "     Regular_Price              Language           Book_Audio_Length  \\\n",
       "0        ₹1,519.00  [Language:, English]   Length: 9 hrs and 27 mins   \n",
       "1          ₹888.00  [Language:, English]   Length: 7 hrs and 18 mins   \n",
       "2          ₹703.00  [Language:, English]   Length: 17 hrs and 7 mins   \n",
       "3          ₹500.00  [Language:, English]  Length: 10 hrs and 39 mins   \n",
       "4          ₹879.00  [Language:, English]   Length: 7 hrs and 57 mins   \n",
       "...            ...                   ...                         ...   \n",
       "1175          None                  None                        None   \n",
       "1176          None                  None                        None   \n",
       "1177          None                  None                        None   \n",
       "1178          None                  None                        None   \n",
       "1179          None                  None                        None   \n",
       "\n",
       "                                              Cover_IMG  \\\n",
       "0     https://m.media-amazon.com/images/I/51LP52ob7C...   \n",
       "1     https://m.media-amazon.com/images/I/41Px2q4eSi...   \n",
       "2     https://m.media-amazon.com/images/I/41xwPia5dA...   \n",
       "3     https://m.media-amazon.com/images/I/51Dl6lXXes...   \n",
       "4     https://m.media-amazon.com/images/I/51+8mBt4k7...   \n",
       "...                                                 ...   \n",
       "1175  https://m.media-amazon.com/images/I/41SRcn-iLT...   \n",
       "1176  https://m.media-amazon.com/images/I/51qgoisVut...   \n",
       "1177  https://m.media-amazon.com/images/I/41zi-MhxY1...   \n",
       "1178  https://m.media-amazon.com/images/I/41SCP2yQl9...   \n",
       "1179  https://m.media-amazon.com/images/I/41Y+Rt2yAw...   \n",
       "\n",
       "                                               Book_URL  \n",
       "0     https://www.audible.in/pd/The-Everyday-Hero-Ma...  \n",
       "1     https://www.audible.in/pd/Start-with-Why-Audio...  \n",
       "2     https://www.audible.in/pd/HBR-at-100-Audiobook...  \n",
       "3     https://www.audible.in/pd/The-Design-of-Everyd...  \n",
       "4     https://www.audible.in/pd/Trading-in-the-Zone-...  \n",
       "...                                                 ...  \n",
       "1175       https://www.audible.in/pd/Podcast/B08JKLDGTK  \n",
       "1176       https://www.audible.in/pd/Podcast/B08JKL6BVL  \n",
       "1177  https://www.audible.in/pd/The-Case-Interview-P...  \n",
       "1178  https://www.audible.in/pd/Augmented-the-indust...  \n",
       "1179       https://www.audible.in/pd/Podcast/B08JKKNY4V  \n",
       "\n",
       "[1180 rows x 10 columns]"
      ]
     },
     "execution_count": 192,
     "metadata": {},
     "output_type": "execute_result"
    }
   ],
   "source": [
    "all_pages_scraped= pd.DataFrame(parse_all_pages(24))\n",
    "all_pages_scraped"
   ]
  },
  {
   "cell_type": "code",
   "execution_count": null,
   "metadata": {},
   "outputs": [],
   "source": []
  },
  {
   "cell_type": "code",
   "execution_count": 193,
   "metadata": {},
   "outputs": [],
   "source": [
    "all_pages_scraped.to_csv('Audible_Business_and_Careers_Books_2022.csv',index=None)"
   ]
  },
  {
   "cell_type": "code",
   "execution_count": null,
   "metadata": {},
   "outputs": [],
   "source": []
  }
 ],
 "metadata": {
  "kernelspec": {
   "display_name": "Python 3 (ipykernel)",
   "language": "python",
   "name": "python3"
  },
  "language_info": {
   "codemirror_mode": {
    "name": "ipython",
    "version": 3
   },
   "file_extension": ".py",
   "mimetype": "text/x-python",
   "name": "python",
   "nbconvert_exporter": "python",
   "pygments_lexer": "ipython3",
   "version": "3.9.6"
  }
 },
 "nbformat": 4,
 "nbformat_minor": 2
}
