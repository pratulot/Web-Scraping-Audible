{
 "cells": [
  {
   "cell_type": "markdown",
   "metadata": {},
   "source": [
    "# Scraping Audible Books using Python\n",
    "\n",
    "\n",
    "![](https://i.imgur.com/Vf38DRk.jpg)\n",
    "\n",
    "**What is web Scraping?**\n",
    "\n",
    "Web scraping (or data scraping) is a technique used to collect content and data from the internet. This data is usually saved in a local file so that it can be manipulated and analyzed as needed. If you've ever copied and pasted content from a website into an Excel spreadsheet, this is essentially what web scraping is, but on a very small scale. Refer to the article to know more.\n",
    "\n",
    "#### | Data is everywhere - perhaps in the form of \"information\" and \"misinformation\"\n",
    "\n",
    "\n",
    "Audible is an American online audiobook and podcast service that allows users to purchase and stream audiobooks and other forms of spoken word content.\n",
    "\n",
    "**Python language** is the best way to scrape information from any website and it provides many libraries like BeautifulSoup, Scrapy, etc but be careful before you scrape any website please go through the website terms and conditions.\n",
    "\n",
    "Now let's scrape all the information about audio books under the category Business and Career. Go to the website [audible.in](https://www.audible.in/search?node=21881793031&pageSize=50&sort=&ref=a_search_c1_sort_0&pf_rd_p=ef3fe3b8-5e51-4a15-8620-4b6299f0f80d&pf_rd_r=5SXJAR17GV319RGXZG53) and get an understanding about the website by right clicking anywhere inn the website and select 'Inspect' option it will be available in almost all the modern Browsers."
   ]
  },
  {
   "cell_type": "markdown",
   "metadata": {},
   "source": [
    "We will be using packages like: [Requests](https://www.w3schools.com/python/module_requests.asp?msclkid=32785f24c4bf11ec9ffc8255b855ffcc), [BeautifulSoup4](https://beautiful-soup-4.readthedocs.io/en/latest/?msclkid=509f5e64c3c711eca02fb7b32259be6c), [Pandas](https://pandas.pydata.org/docs/?msclkid=7703b982c3c711ecad8359fe405ad5b0).  If you don't know please go through the documentation provided."
   ]
  },
  {
   "cell_type": "code",
   "execution_count": 2,
   "metadata": {},
   "outputs": [],
   "source": [
    "#Installing packages\n",
    "\n",
    "'''Jovian library allows you to save the notebooks in our jovian profile'''\n",
    "\n",
    "!pip install jovian --upgrade --quiet\n",
    "!pip install requests --upgrade --quiet\n",
    "!pip install beautifulsoup4 --upgrade --quiet\n",
    "!pip install pandas --upgrade --quiet"
   ]
  },
  {
   "cell_type": "code",
   "execution_count": 3,
   "metadata": {},
   "outputs": [],
   "source": [
    "#Importing the packages to use\n",
    "\n",
    "import jovian\n",
    "import requests as rq\n",
    "from bs4 import BeautifulSoup as bs\n",
    "import pandas as pd"
   ]
  },
  {
   "cell_type": "markdown",
   "metadata": {},
   "source": [
    "## Download the webpage using `requests`"
   ]
  },
  {
   "cell_type": "code",
   "execution_count": 4,
   "metadata": {},
   "outputs": [],
   "source": [
    "audible_url= 'https://www.audible.in/search?node=21881793031&pageSize=50&sort=&page=1'"
   ]
  },
  {
   "cell_type": "markdown",
   "metadata": {},
   "source": [
    "The library is now installed and imported.\n",
    "\n",
    "To download a page, we can use the `get` function from requests, which returns a response object."
   ]
  },
  {
   "cell_type": "code",
   "execution_count": 5,
   "metadata": {},
   "outputs": [],
   "source": [
    "response = rq.get(audible_url)"
   ]
  },
  {
   "cell_type": "markdown",
   "metadata": {},
   "source": [
    "`requests.get` returns a response object containing the data from the web page and some other information.\n",
    "\n",
    "The `.status_code` property can be used to check if the response was successful. A successful response will have an [HTTP status code](https://developer.mozilla.org/en-US/docs/Web/HTTP/Status) between 200 and 299."
   ]
  },
  {
   "cell_type": "code",
   "execution_count": 6,
   "metadata": {},
   "outputs": [
    {
     "data": {
      "text/plain": [
       "200"
      ]
     },
     "execution_count": 6,
     "metadata": {},
     "output_type": "execute_result"
    }
   ],
   "source": [
    "response.status_code"
   ]
  },
  {
   "cell_type": "markdown",
   "metadata": {},
   "source": [
    "The request was successful. We can get the contents of the page using `response.text`."
   ]
  },
  {
   "cell_type": "code",
   "execution_count": 7,
   "metadata": {},
   "outputs": [
    {
     "data": {
      "text/plain": [
       "2298532"
      ]
     },
     "execution_count": 7,
     "metadata": {},
     "output_type": "execute_result"
    }
   ],
   "source": [
    "page_contents=response.text\n",
    "len(page_contents)"
   ]
  },
  {
   "cell_type": "markdown",
   "metadata": {},
   "source": [
    "In the above cell `page_content[:1000]` contains the [HTML](https://en.wikipedia.org/wiki/HTML) of the webpage [audible.in](https://www.audible.in/search?node=21881793031&pageSize=50&sort=&ref=a_search_c1_sort_0&pf_rd_p=ef3fe3b8-5e51-4a15-8620-4b6299f0f80d&pf_rd_r=5SXJAR17GV319RGXZG53)\n",
    "\n",
    "We can also save it to a file and view the page locally within Jupyter using \"File > Open\"."
   ]
  },
  {
   "cell_type": "code",
   "execution_count": 8,
   "metadata": {},
   "outputs": [],
   "source": [
    "with open ('business-career-books.html', 'w') as f:\n",
    "    f.write(page_contents)"
   ]
  },
  {
   "cell_type": "code",
   "execution_count": 9,
   "metadata": {},
   "outputs": [],
   "source": [
    "with open ('business-career-books.html', 'r') as f:\n",
    "    html_source= f.read()"
   ]
  },
  {
   "cell_type": "markdown",
   "metadata": {},
   "source": [
    "### Parse the HTML source code using `beautifulsoup4`"
   ]
  },
  {
   "cell_type": "code",
   "execution_count": 10,
   "metadata": {},
   "outputs": [],
   "source": [
    "doc=bs(html_source)"
   ]
  },
  {
   "cell_type": "markdown",
   "metadata": {},
   "source": [
    "Look's like we have the data for 50 audio books per page and there are about 24 pages. Here is a function that helps you to get."
   ]
  },
  {
   "cell_type": "markdown",
   "metadata": {},
   "source": [
    "**Creating a helper function that gets you desired webpage by taking page number as argument**"
   ]
  },
  {
   "cell_type": "code",
   "execution_count": 11,
   "metadata": {},
   "outputs": [],
   "source": [
    "def get_pageno(pageno):\n",
    "    pageno= str(pageno)\n",
    "    # Construct the URL\n",
    "    books_pageno_url = 'https://www.audible.in/search?node=21881793031&pageSize=50&sort=&page=' + pageno\n",
    "    \n",
    "    # Get the HTML page content using requests\n",
    "    response = rq.get(books_pageno_url)\n",
    "    \n",
    "    # Ensure that the reponse is valid\n",
    "    if response.status_code != 200:\n",
    "        print('Status code:', response.status_code)\n",
    "        raise Exception('Failed to fetch web page ' + books_pageno_url)\n",
    "    \n",
    "    # Construct a beautiful soup document\n",
    "    doc = bs(response.text)\n",
    "    \n",
    "    return doc"
   ]
  },
  {
   "cell_type": "markdown",
   "metadata": {},
   "source": [
    "Let's get the page 1 and start scraping the data out of it"
   ]
  },
  {
   "cell_type": "code",
   "execution_count": 12,
   "metadata": {},
   "outputs": [],
   "source": [
    "pageno_1= get_pageno(1)"
   ]
  },
  {
   "cell_type": "markdown",
   "metadata": {},
   "source": [
    "## Extracting the data\n"
   ]
  },
  {
   "cell_type": "markdown",
   "metadata": {},
   "source": [
    "![](https://miro.medium.com/max/1400/1*QBCx2VuHpD4vTxm8JFbMTQ.png)"
   ]
  },
  {
   "cell_type": "markdown",
   "metadata": {},
   "source": [
    "\n",
    "Here `<li>` tag with `class=bc-list-item productListItem` contains all the data about each book, so let's find all the all li tags and store it in a variable "
   ]
  },
  {
   "cell_type": "code",
   "execution_count": 13,
   "metadata": {},
   "outputs": [],
   "source": [
    "book_contents= pageno_1.find_all('li', class_='bc-list-item productListItem')"
   ]
  },
  {
   "cell_type": "markdown",
   "metadata": {},
   "source": [
    "## 1. Title of Book:"
   ]
  },
  {
   "cell_type": "markdown",
   "metadata": {},
   "source": [
    "![](https://miro.medium.com/max/1400/1*DALpLoNyaichld2dcZz8tA.png)"
   ]
  },
  {
   "cell_type": "markdown",
   "metadata": {},
   "source": [
    "Now that we got book_contents that contains all the `<li>` tags. Let's create a function that gets all the book names.\n",
    "\n",
    "Under `<a>` tag, name is written in text format we can retrieve name by using the below function."
   ]
  },
  {
   "cell_type": "code",
   "execution_count": 14,
   "metadata": {},
   "outputs": [],
   "source": [
    "def get_book_names(book_contents):\n",
    "    book_names= []\n",
    "    for tag in book_contents:\n",
    "            a_tag_name= tag.h3.find_all('a', recursive=False)\n",
    "            book_name= a_tag_name[0].text.strip()\n",
    "            book_names.append(book_name)\n",
    "    return book_names"
   ]
  },
  {
   "cell_type": "markdown",
   "metadata": {},
   "source": [
    "We can call out function `get_book_names` to get the book names. "
   ]
  },
  {
   "cell_type": "code",
   "execution_count": 15,
   "metadata": {
    "scrolled": true
   },
   "outputs": [
    {
     "data": {
      "text/plain": [
       "['The Everyday Hero Manifesto',\n",
       " 'HBR at 100',\n",
       " 'Start with Why',\n",
       " 'The Design of Everyday Things',\n",
       " '$100M Offers',\n",
       " 'The Daily Stoic',\n",
       " 'Think and Grow Rich',\n",
       " 'Range',\n",
       " 'The ONE Thing',\n",
       " 'Trading in the Zone',\n",
       " 'The Personal MBA: Master the Art of Business',\n",
       " 'Indomitable',\n",
       " 'Think Again',\n",
       " 'Algorithms to Live By',\n",
       " 'The Founders',\n",
       " 'Hyperfocus',\n",
       " 'The Ambuja Story',\n",
       " 'How Come No One Told Me That',\n",
       " 'Designing Data-Intensive Applications',\n",
       " 'Indistractable',\n",
       " 'The Obstacle Is the Way',\n",
       " 'Elon Musk',\n",
       " 'No Excuses!',\n",
       " 'The DevOps Handbook, Second Edition',\n",
       " 'The Hard Thing About Hard Things',\n",
       " 'The Lean Startup',\n",
       " 'Rework',\n",
       " 'Your Money or Your Life',\n",
       " 'The Goal',\n",
       " 'Make Time',\n",
       " 'The Warren Buffett Way',\n",
       " 'The Millionaire Fastlane: Crack the Code to Wealth and Live Rich for a Lifetime',\n",
       " 'Grit',\n",
       " 'No Rules Rules',\n",
       " 'Hooked: How to Build Habit-Forming Products',\n",
       " 'Extreme Ownership',\n",
       " 'How to Talk to Anyone',\n",
       " 'Leadership Wisdom from the Monk Who Sold His Ferrari',\n",
       " 'Eat That Frog!',\n",
       " 'The Voltage Effect',\n",
       " 'The 10X Rule',\n",
       " 'Masters of Scale',\n",
       " 'Essentialism',\n",
       " 'Outliers',\n",
       " 'Rich as F--k',\n",
       " 'The Power of Regret',\n",
       " 'I Too Had a Dream',\n",
       " 'Secrets of the Millionaire Mind',\n",
       " '33 Strategies of War',\n",
       " 'Find Your Why']"
      ]
     },
     "execution_count": 15,
     "metadata": {},
     "output_type": "execute_result"
    }
   ],
   "source": [
    "get_book_names(book_contents)"
   ]
  },
  {
   "cell_type": "markdown",
   "metadata": {},
   "source": [
    "## 2. Each Book URL's:"
   ]
  },
  {
   "cell_type": "markdown",
   "metadata": {},
   "source": [
    "![](https://cdn-images-1.medium.com/max/1600/1*DALpLoNyaichld2dcZz8tA.png)"
   ]
  },
  {
   "cell_type": "markdown",
   "metadata": {},
   "source": [
    "Under the same `<a>` tag, `href` attribute contains the link of the book. We can retrieve the link of the audio book using the below function."
   ]
  },
  {
   "cell_type": "code",
   "execution_count": 16,
   "metadata": {},
   "outputs": [],
   "source": [
    "def get_book_links(book_contents):\n",
    "    base_url='https://www.audible.in'\n",
    "    book_links=[]\n",
    "    for tag in book_contents:\n",
    "        a_tag_name= tag.h3.find_all('a', recursive=False)\n",
    "        url= a_tag_name[0]['href'].strip()\n",
    "        book_link= base_url+url\n",
    "        book_links.append(book_link)\n",
    "    return book_links"
   ]
  },
  {
   "cell_type": "markdown",
   "metadata": {},
   "source": [
    "We can call out function `get_book_links` to get the book URL's. "
   ]
  },
  {
   "cell_type": "code",
   "execution_count": 17,
   "metadata": {
    "scrolled": true
   },
   "outputs": [
    {
     "data": {
      "text/plain": [
       "['https://www.audible.in/pd/The-Everyday-Hero-Manifesto-Audiobook/B08XY8T574',\n",
       " 'https://www.audible.in/pd/HBR-at-100-Audiobook/B09WFVS56M',\n",
       " 'https://www.audible.in/pd/Start-with-Why-Audiobook/B09J5J1PTZ',\n",
       " 'https://www.audible.in/pd/The-Design-of-Everyday-Things-Audiobook/B07L5T1Q55',\n",
       " 'https://www.audible.in/pd/100M-Offers-Audiobook/B09BK615JG',\n",
       " 'https://www.audible.in/pd/The-Daily-Stoic-Audiobook/B079B59VKY',\n",
       " 'https://www.audible.in/pd/Think-and-Grow-Rich-Audiobook/B07BN7HM3H',\n",
       " 'https://www.audible.in/pd/Range-Audiobook/B07P9RSNSB',\n",
       " 'https://www.audible.in/pd/The-ONE-Thing-Audiobook/B079P6NWGL',\n",
       " 'https://www.audible.in/pd/Trading-in-the-Zone-Audiobook/B07BTC3K6T',\n",
       " 'https://www.audible.in/pd/The-Personal-MBA-Master-the-Art-of-Business-Audiobook/B079TN1LCT',\n",
       " 'https://www.audible.in/pd/Indomitable-Audiobook/B09SGPKYMV',\n",
       " 'https://www.audible.in/pd/Think-Again-Audiobook/B08PL4YK66',\n",
       " 'https://www.audible.in/pd/Algorithms-to-Live-By-Audiobook/B079P87243',\n",
       " 'https://www.audible.in/pd/The-Founders-Audiobook/B09RMSS39B',\n",
       " 'https://www.audible.in/pd/Hyperfocus-Audiobook/B07CTW7XQQ',\n",
       " 'https://www.audible.in/pd/The-Ambuja-Story-Audiobook/B09V3KVQNK',\n",
       " 'https://www.audible.in/pd/How-Come-No-One-Told-Me-That-Audiobook/B09NP5NFRV',\n",
       " 'https://www.audible.in/pd/Designing-Data-Intensive-Applications-Audiobook/B08VKM4CWP',\n",
       " 'https://www.audible.in/pd/Indistractable-Audiobook/B07SX9D5Q9',\n",
       " 'https://www.audible.in/pd/The-Obstacle-Is-the-Way-Audiobook/B076YFZLXY',\n",
       " 'https://www.audible.in/pd/Elon-Musk-Audiobook/B079WV7RD1',\n",
       " 'https://www.audible.in/pd/No-Excuses-Audiobook/B01N6J83IG',\n",
       " 'https://www.audible.in/pd/The-DevOps-Handbook-Second-Edition-Audiobook/B09L56CBSH',\n",
       " 'https://www.audible.in/pd/The-Hard-Thing-About-Hard-Things-Audiobook/B079TJQQJ4',\n",
       " 'https://www.audible.in/pd/The-Lean-Startup-Audiobook/B079TJMHP9',\n",
       " 'https://www.audible.in/pd/Rework-Audiobook/B079VF9TV6',\n",
       " 'https://www.audible.in/pd/Your-Money-or-Your-Life-Audiobook/B07DLDPJJW',\n",
       " 'https://www.audible.in/pd/The-Goal-Audiobook/B01MU2YXHW',\n",
       " 'https://www.audible.in/pd/Make-Time-Audiobook/B07H4ZFHPS',\n",
       " 'https://www.audible.in/pd/The-Warren-Buffett-Way-Audiobook/B079J31PHQ',\n",
       " 'https://www.audible.in/pd/The-Millionaire-Fastlane-Crack-the-Code-to-Wealth-and-Live-Rich-for-a-Lifetime-Audiobook/B076ZT8KHD',\n",
       " 'https://www.audible.in/pd/Grit-Audiobook/B079X24J88',\n",
       " 'https://www.audible.in/pd/No-Rules-Rules-Audiobook/B083ZJFTJT',\n",
       " 'https://www.audible.in/pd/Hooked-How-to-Build-Habit-Forming-Products-Audiobook/B079TLX3QQ',\n",
       " 'https://www.audible.in/pd/Extreme-Ownership-Audiobook/B078XL5JX1',\n",
       " 'https://www.audible.in/pd/How-to-Talk-to-Anyone-Audiobook/B079TLJV49',\n",
       " 'https://www.audible.in/pd/Leadership-Wisdom-from-the-Monk-Who-Sold-His-Ferrari-Audiobook/B07GDQGK75',\n",
       " 'https://www.audible.in/pd/Eat-That-Frog-Audiobook/B08NMZWW5G',\n",
       " 'https://www.audible.in/pd/The-Voltage-Effect-Audiobook/B09N3ZKBHT',\n",
       " 'https://www.audible.in/pd/The-10X-Rule-Audiobook/B079TM7QM1',\n",
       " 'https://www.audible.in/pd/Masters-of-Scale-Audiobook/1473591554',\n",
       " 'https://www.audible.in/pd/Essentialism-Audiobook/B079WVSQ81',\n",
       " 'https://www.audible.in/pd/Outliers-Audiobook/B071DZQYK3',\n",
       " 'https://www.audible.in/pd/Rich-as-F-k-Audiobook/B09MTKTXZF',\n",
       " 'https://www.audible.in/pd/The-Power-of-Regret-Audiobook/B09N9VQT92',\n",
       " 'https://www.audible.in/pd/I-Too-Had-a-Dream-Audiobook/B09N5DVZMQ',\n",
       " 'https://www.audible.in/pd/Secrets-of-the-Millionaire-Mind-Audiobook/B079FPPM7J',\n",
       " 'https://www.audible.in/pd/33-Strategies-of-War-Audiobook/B01MQYCOUY',\n",
       " 'https://www.audible.in/pd/Find-Your-Why-Audiobook/B0754QN5ZB']"
      ]
     },
     "execution_count": 17,
     "metadata": {},
     "output_type": "execute_result"
    }
   ],
   "source": [
    "get_book_links(book_contents)"
   ]
  },
  {
   "cell_type": "markdown",
   "metadata": {},
   "source": [
    "## 3. Duration of Audio Book:"
   ]
  },
  {
   "cell_type": "markdown",
   "metadata": {},
   "source": [
    "![](https://cdn-images-1.medium.com/max/1600/1*OQo-8FshD6lVimttzKHhmQ.png)"
   ]
  },
  {
   "cell_type": "markdown",
   "metadata": {},
   "source": [
    "There is another `<li>` tag, now class name should be specified to extract the expected tag i.e. `class_='bc-list-item runtimeLabel'`. After entering into the tag there is another tag `<span>` We can retrieve the length of the audio book using the below function."
   ]
  },
  {
   "cell_type": "code",
   "execution_count": 18,
   "metadata": {},
   "outputs": [],
   "source": [
    "def get_book_length(book_contents):\n",
    "    book_length=[]\n",
    "    for tag in book_contents:\n",
    "        try:\n",
    "            len_tag= tag.find('li', class_='bc-list-item runtimeLabel')\n",
    "            length_tag = len_tag.find('span')\n",
    "            length = length_tag.text.strip()\n",
    "            book_length.append(length)\n",
    "        except AttributeError:\n",
    "            book_length.append(None)\n",
    "    return book_length"
   ]
  },
  {
   "cell_type": "markdown",
   "metadata": {},
   "source": [
    "We can call out function `get_book_length` to get the duration of the audio book. "
   ]
  },
  {
   "cell_type": "code",
   "execution_count": 19,
   "metadata": {
    "scrolled": true
   },
   "outputs": [
    {
     "data": {
      "text/plain": [
       "['Length: 9 hrs and 27 mins',\n",
       " 'Length: 17 hrs and 7 mins',\n",
       " 'Length: 7 hrs and 18 mins',\n",
       " 'Length: 10 hrs and 39 mins',\n",
       " 'Length: 3 hrs and 48 mins',\n",
       " 'Length: 10 hrs and 6 mins',\n",
       " 'Length: 10 hrs and 15 mins',\n",
       " 'Length: 10 hrs and 17 mins',\n",
       " 'Length: 5 hrs and 24 mins',\n",
       " 'Length: 7 hrs and 57 mins',\n",
       " 'Length: 15 hrs and 25 mins',\n",
       " 'Length: 15 hrs and 26 mins',\n",
       " 'Length: 6 hrs and 41 mins',\n",
       " 'Length: 11 hrs and 50 mins',\n",
       " 'Length: 15 hrs and 46 mins',\n",
       " 'Length: 6 hrs and 39 mins',\n",
       " 'Length: 13 hrs and 59 mins',\n",
       " 'Length: 8 hrs and 21 mins',\n",
       " 'Length: 20 hrs and 56 mins',\n",
       " 'Length: 5 hrs and 15 mins',\n",
       " 'Length: 6 hrs and 7 mins',\n",
       " 'Length: 13 hrs and 23 mins',\n",
       " 'Length: 6 hrs and 51 mins',\n",
       " 'Length: 15 hrs and 51 mins',\n",
       " 'Length: 7 hrs and 57 mins',\n",
       " 'Length: 8 hrs and 38 mins',\n",
       " 'Length: 2 hrs and 50 mins',\n",
       " 'Length: 11 hrs and 21 mins',\n",
       " 'Length: 11 hrs and 45 mins',\n",
       " 'Length: 4 hrs and 58 mins',\n",
       " 'Length: 10 hrs and 31 mins',\n",
       " 'Length: 12 hrs and 46 mins',\n",
       " 'Length: 9 hrs and 21 mins',\n",
       " 'Length: 9 hrs and 42 mins',\n",
       " 'Length: 4 hrs and 40 mins',\n",
       " 'Length: 9 hrs and 33 mins',\n",
       " 'Length: 8 hrs and 59 mins',\n",
       " 'Length: 7 hrs and 31 mins',\n",
       " 'Length: 2 hrs and 37 mins',\n",
       " 'Length: 8 hrs and 26 mins',\n",
       " 'Length: 7 hrs and 24 mins',\n",
       " 'Length: 9 hrs and 52 mins',\n",
       " 'Length: 6 hrs and 14 mins',\n",
       " 'Length: 7 hrs and 18 mins',\n",
       " 'Length: 6 hrs and 45 mins',\n",
       " 'Length: 5 hrs and 29 mins',\n",
       " 'Length: 9 hrs and 58 mins',\n",
       " 'Length: 5 hrs and 10 mins',\n",
       " 'Length: 27 hrs and 30 mins',\n",
       " 'Length: 4 hrs and 56 mins']"
      ]
     },
     "execution_count": 19,
     "metadata": {},
     "output_type": "execute_result"
    }
   ],
   "source": [
    "get_book_length(book_contents)"
   ]
  },
  {
   "cell_type": "markdown",
   "metadata": {},
   "source": [
    "## 4. Authors of the book:"
   ]
  },
  {
   "cell_type": "markdown",
   "metadata": {},
   "source": [
    "![](https://cdn-images-1.medium.com/max/1600/1*d_JgCClWrjFEhNL7E4Z0KQ.png)"
   ]
  },
  {
   "cell_type": "markdown",
   "metadata": {},
   "source": [
    "Same as Book length there is another `<li>` tag, now class name should be specified to extract the expected tag i.e. `class_='bc-list-item authorLabel'` tag. After entering into the tag there is another tag `<span>` We can retrieve the author name using the below function."
   ]
  },
  {
   "cell_type": "code",
   "execution_count": 20,
   "metadata": {},
   "outputs": [],
   "source": [
    "def get_written_by(book_contents):\n",
    "    written_by=[]\n",
    "    for tag in book_contents:\n",
    "        author_tag= tag.find('li', class_='bc-list-item authorLabel')\n",
    "        try:\n",
    "            auth_tag = author_tag.find('a')\n",
    "            author = auth_tag.text.strip()\n",
    "            written_by.append(author)\n",
    "        except AttributeError:\n",
    "            written_by.append(None)\n",
    "    return written_by"
   ]
  },
  {
   "cell_type": "markdown",
   "metadata": {},
   "source": [
    "We can call out function `get_written_by` to get the authors. "
   ]
  },
  {
   "cell_type": "code",
   "execution_count": 21,
   "metadata": {
    "scrolled": true
   },
   "outputs": [
    {
     "data": {
      "text/plain": [
       "['Robin Sharma',\n",
       " 'Harvard Business Review',\n",
       " 'Simon Sinek',\n",
       " 'Don Norman',\n",
       " 'Alex Hormozi',\n",
       " 'Ryan Holiday',\n",
       " 'Napoleon Hill',\n",
       " 'David Epstein',\n",
       " 'Gary Keller',\n",
       " 'Mark Douglas',\n",
       " 'Josh Kaufman',\n",
       " 'Arundhati Bhattacharya',\n",
       " 'Adam Grant',\n",
       " 'Brian Christian',\n",
       " 'Jimmy Soni',\n",
       " 'Chris Bailey',\n",
       " 'Narotam Sekhsaria',\n",
       " 'Prakash Iyer',\n",
       " 'Martin Kleppmann',\n",
       " 'Nir Eyal',\n",
       " 'Ryan Holiday',\n",
       " 'Ashlee Vance',\n",
       " 'Brian Tracy',\n",
       " 'Gene Kim',\n",
       " 'Ben Horowitz',\n",
       " 'Eric Ries',\n",
       " 'Jason Fried',\n",
       " 'Vicki Robin',\n",
       " 'Eliyahu M. Goldratt',\n",
       " 'Jake Knapp',\n",
       " 'Robert Hagstrom',\n",
       " 'MJ DeMarco',\n",
       " 'Angela Duckworth',\n",
       " 'Reed Hastings',\n",
       " 'Nir Eyal',\n",
       " 'Jocko Willink',\n",
       " 'Leil Lowndes',\n",
       " 'Robin Sharma',\n",
       " 'Brian Tracy',\n",
       " 'John A List',\n",
       " 'Grant Cardone',\n",
       " 'Reid Hoffman',\n",
       " 'Greg McKeown',\n",
       " 'Malcolm Gladwell',\n",
       " 'Amanda Frances',\n",
       " 'Daniel H. Pink',\n",
       " 'Kurien',\n",
       " 'T. Harv Eker',\n",
       " 'Robert Greene',\n",
       " 'Simon Sinek']"
      ]
     },
     "execution_count": 21,
     "metadata": {},
     "output_type": "execute_result"
    }
   ],
   "source": [
    "get_written_by(book_contents)"
   ]
  },
  {
   "cell_type": "markdown",
   "metadata": {},
   "source": [
    "## 5. Description about the audio book:"
   ]
  },
  {
   "cell_type": "markdown",
   "metadata": {},
   "source": [
    "![](https://cdn-images-1.medium.com/max/1600/1*OOQOfDkDHllYam2e1QxLdQ.png)"
   ]
  },
  {
   "cell_type": "markdown",
   "metadata": {},
   "source": [
    "`<li class_='bc-list-item subtitle'>` and `<span>` represents description field. Let's retrieve info by using the below function."
   ]
  },
  {
   "cell_type": "code",
   "execution_count": 22,
   "metadata": {},
   "outputs": [],
   "source": [
    "def get_description(book_contents):\n",
    "    description=[]\n",
    "    for tag in book_contents:\n",
    "        about_tag= tag.find('li', class_='bc-list-item subtitle')\n",
    "        try:\n",
    "            description_tag = about_tag.find('span').text.strip()\n",
    "            description.append(description_tag)\n",
    "        except AttributeError:\n",
    "            description.append(None)\n",
    "    return description"
   ]
  },
  {
   "cell_type": "markdown",
   "metadata": {},
   "source": [
    "We can call out function `get_description` to get the description about the books. "
   ]
  },
  {
   "cell_type": "code",
   "execution_count": 23,
   "metadata": {
    "scrolled": true
   },
   "outputs": [
    {
     "data": {
      "text/plain": [
       "['Activate Your Positivity, Maximize Your Productivity, Serve The World',\n",
       " \"The Most Influential and Innovative Articles from Harvard Business Review's First Century\",\n",
       " 'How Great Leaders Inspire Everyone To Take Action',\n",
       " 'Revised and Expanded Edition',\n",
       " 'How to Make Offers So Good People Feel Stupid Saying No',\n",
       " '366 Meditations on Wisdom, Perseverance, and the Art of Living',\n",
       " None,\n",
       " 'How Generalists Triumph in a Specialized World',\n",
       " 'The Surprisingly Simple Truth Behind Extraordinary Results',\n",
       " 'Master the Market with Confidence, Discipline, and a Winning Attitude',\n",
       " None,\n",
       " \"A Working Woman's Notes on Work, Life and Leadership\",\n",
       " \"The Power of Knowing What You Don't Know\",\n",
       " 'The Computer Science of Human Decisions',\n",
       " None,\n",
       " None,\n",
       " 'How a Group of Ordinary Men Created an Extraordinary Company',\n",
       " 'Life Lessons, Practical Advice and Timeless Wisdom for Success',\n",
       " 'The Big Ideas Behind Reliable, Scalable, and Maintainable Systems',\n",
       " 'How to Control Your Attention and Choose Your Life',\n",
       " 'The Timeless Art of Turning Trials into Triumph',\n",
       " None,\n",
       " 'The Power of Self-Discipline for Success in Your Life',\n",
       " 'How to Create World-Class Agility, Reliability, & Security in Technology Organizations',\n",
       " 'Building a Business When There Are No Easy Answers',\n",
       " \"How Today's Entrepreneurs Use Continuous Innovation to Create Radically Successful Businesses\",\n",
       " None,\n",
       " '9 Steps to Transforming Your Relationship with Money and Achieving Financial Independence: Fully Revised and Updated for 2018',\n",
       " 'A Process of Ongoing Improvement - 30th Anniversary Edition',\n",
       " 'How to focus on what matters every day',\n",
       " '3rd Edition',\n",
       " None,\n",
       " 'The Power of Passion and Perseverance',\n",
       " 'Netflix and the Culture of Reinvention',\n",
       " None,\n",
       " 'How U.S. Navy SEALs Lead and Win',\n",
       " '92 Little Tricks for Big Success in Relationships',\n",
       " 'The 8 Rituals of Visionary Leaders',\n",
       " '21 Great Ways to Stop Procrastinating and Get More Done in Less',\n",
       " None,\n",
       " 'The Only Difference Between Success and Failure',\n",
       " 'Surprising Truths from the World’s Most Successful Entrepreneurs',\n",
       " 'The Disciplined Pursuit of Less',\n",
       " 'The Story of Success',\n",
       " 'More Money than You Know What to Do With',\n",
       " 'How Looking Backward Moves Us Forward',\n",
       " None,\n",
       " 'Mastering the Inner Game of Wealth',\n",
       " None,\n",
       " 'A Practical Guide for Discovering Purpose for You and Your Team']"
      ]
     },
     "execution_count": 23,
     "metadata": {},
     "output_type": "execute_result"
    }
   ],
   "source": [
    "get_description(book_contents)"
   ]
  },
  {
   "cell_type": "markdown",
   "metadata": {},
   "source": [
    "## 6. Language of the Audio Book:"
   ]
  },
  {
   "cell_type": "markdown",
   "metadata": {},
   "source": [
    "![](https://cdn-images-1.medium.com/max/1600/1*EbNErCWkTvNgFHUFSRY73g.png)"
   ]
  },
  {
   "cell_type": "markdown",
   "metadata": {},
   "source": [
    "`<li class_='bc-list-item languageLabel>` and `<span>` represents description field. Let's retrieve info by using the below function."
   ]
  },
  {
   "cell_type": "code",
   "execution_count": 24,
   "metadata": {},
   "outputs": [],
   "source": [
    "def get_language(book_contents):\n",
    "    language=[]\n",
    "    for tag in book_contents:\n",
    "        lang_tag= tag.find('li', class_='bc-list-item languageLabel')\n",
    "        try:\n",
    "            language_tag = lang_tag.find('span').text.split()\n",
    "            language.append(language_tag)\n",
    "        except AttributeError:\n",
    "            language.append(None)\n",
    "    return language"
   ]
  },
  {
   "cell_type": "markdown",
   "metadata": {},
   "source": [
    "We can call out function `get_language` to get the language of the audio. "
   ]
  },
  {
   "cell_type": "code",
   "execution_count": 25,
   "metadata": {
    "scrolled": true
   },
   "outputs": [
    {
     "data": {
      "text/plain": [
       "[['Language:', 'English'],\n",
       " ['Language:', 'English'],\n",
       " ['Language:', 'English'],\n",
       " ['Language:', 'English'],\n",
       " ['Language:', 'English'],\n",
       " ['Language:', 'English'],\n",
       " ['Language:', 'English'],\n",
       " ['Language:', 'English'],\n",
       " ['Language:', 'English'],\n",
       " ['Language:', 'English'],\n",
       " ['Language:', 'English'],\n",
       " ['Language:', 'English'],\n",
       " ['Language:', 'English'],\n",
       " ['Language:', 'English'],\n",
       " ['Language:', 'English'],\n",
       " ['Language:', 'English'],\n",
       " ['Language:', 'English'],\n",
       " ['Language:', 'English'],\n",
       " ['Language:', 'English'],\n",
       " ['Language:', 'English'],\n",
       " ['Language:', 'English'],\n",
       " ['Language:', 'English'],\n",
       " ['Language:', 'English'],\n",
       " ['Language:', 'English'],\n",
       " ['Language:', 'English'],\n",
       " ['Language:', 'English'],\n",
       " ['Language:', 'English'],\n",
       " ['Language:', 'English'],\n",
       " ['Language:', 'English'],\n",
       " ['Language:', 'English'],\n",
       " ['Language:', 'English'],\n",
       " ['Language:', 'English'],\n",
       " ['Language:', 'English'],\n",
       " ['Language:', 'English'],\n",
       " ['Language:', 'English'],\n",
       " ['Language:', 'English'],\n",
       " ['Language:', 'English'],\n",
       " ['Language:', 'English'],\n",
       " ['Language:', 'English'],\n",
       " ['Language:', 'English'],\n",
       " ['Language:', 'English'],\n",
       " ['Language:', 'English'],\n",
       " ['Language:', 'English'],\n",
       " ['Language:', 'English'],\n",
       " ['Language:', 'English'],\n",
       " ['Language:', 'English'],\n",
       " ['Language:', 'English'],\n",
       " ['Language:', 'English'],\n",
       " ['Language:', 'English'],\n",
       " ['Language:', 'English']]"
      ]
     },
     "execution_count": 25,
     "metadata": {},
     "output_type": "execute_result"
    }
   ],
   "source": [
    "get_language(book_contents)"
   ]
  },
  {
   "cell_type": "markdown",
   "metadata": {},
   "source": [
    "## 7. Ratings for the book"
   ]
  },
  {
   "cell_type": "markdown",
   "metadata": {},
   "source": [
    "![](https://cdn-images-1.medium.com/max/1600/1*FWuF4TwLDsVYPO9Ot_PZhQ.png)"
   ]
  },
  {
   "cell_type": "markdown",
   "metadata": {},
   "source": [
    "`<li class_='bc-list-item ratingsLabel'>` and `<span class=\"bc-text bc-pub-offscreen\">` represents ratings field. Let's retrieve no of stars by using the below function."
   ]
  },
  {
   "cell_type": "code",
   "execution_count": 26,
   "metadata": {},
   "outputs": [],
   "source": [
    "def get_rating(book_contents):\n",
    "    rating=[]\n",
    "    for tag in book_contents:\n",
    "        star_tag= tag.find('li', class_='bc-list-item ratingsLabel')\n",
    "        try:\n",
    "            rating_tag = star_tag.find('span', class_='bc-text bc-pub-offscreen').text.strip()\n",
    "            rating.append(rating_tag)\n",
    "        except AttributeError:\n",
    "            rating.append(None)\n",
    "    return rating"
   ]
  },
  {
   "cell_type": "markdown",
   "metadata": {},
   "source": [
    "We can call out function `get_rating` to get the ratings. "
   ]
  },
  {
   "cell_type": "code",
   "execution_count": 27,
   "metadata": {
    "scrolled": true
   },
   "outputs": [
    {
     "data": {
      "text/plain": [
       "[None,\n",
       " None,\n",
       " '4.5 out of 5 stars',\n",
       " '4.5 out of 5 stars',\n",
       " '5 out of 5 stars',\n",
       " '5 out of 5 stars',\n",
       " '4.5 out of 5 stars',\n",
       " '4.5 out of 5 stars',\n",
       " '4.5 out of 5 stars',\n",
       " '4.5 out of 5 stars',\n",
       " '4.5 out of 5 stars',\n",
       " '4.5 out of 5 stars',\n",
       " '4.5 out of 5 stars',\n",
       " '4.5 out of 5 stars',\n",
       " None,\n",
       " '4.5 out of 5 stars',\n",
       " '5 out of 5 stars',\n",
       " '5 out of 5 stars',\n",
       " '5 out of 5 stars',\n",
       " '4.5 out of 5 stars',\n",
       " '4.5 out of 5 stars',\n",
       " '4.5 out of 5 stars',\n",
       " '4.5 out of 5 stars',\n",
       " None,\n",
       " '4.5 out of 5 stars',\n",
       " '4.5 out of 5 stars',\n",
       " '4.5 out of 5 stars',\n",
       " '4.5 out of 5 stars',\n",
       " '4.5 out of 5 stars',\n",
       " '4.5 out of 5 stars',\n",
       " '4.5 out of 5 stars',\n",
       " '4.5 out of 5 stars',\n",
       " '4.5 out of 5 stars',\n",
       " '4.5 out of 5 stars',\n",
       " '4.5 out of 5 stars',\n",
       " '4.5 out of 5 stars',\n",
       " '4.5 out of 5 stars',\n",
       " '5 out of 5 stars',\n",
       " '4.5 out of 5 stars',\n",
       " '4.5 out of 5 stars',\n",
       " '4.5 out of 5 stars',\n",
       " '4.5 out of 5 stars',\n",
       " '4.5 out of 5 stars',\n",
       " '4.5 out of 5 stars',\n",
       " '5 out of 5 stars',\n",
       " '4.5 out of 5 stars',\n",
       " '4.5 out of 5 stars',\n",
       " '4.5 out of 5 stars',\n",
       " '4.5 out of 5 stars',\n",
       " '4.5 out of 5 stars']"
      ]
     },
     "execution_count": 27,
     "metadata": {},
     "output_type": "execute_result"
    }
   ],
   "source": [
    "get_rating(book_contents)"
   ]
  },
  {
   "cell_type": "markdown",
   "metadata": {},
   "source": [
    "## 8. Number of People Who Rated"
   ]
  },
  {
   "cell_type": "markdown",
   "metadata": {},
   "source": [
    "![](https://cdn-images-1.medium.com/max/1600/1*GLRZwKaiB_-bTz8d194qGA.png)"
   ]
  },
  {
   "cell_type": "markdown",
   "metadata": {},
   "source": [
    "`<li class_='bc-list-item ratingsLabel'>` and `<span class=\"bc-text bc-size-small bc-color-secondary\">` represents ratings field. Let's retrieve no of ratings by using the below function."
   ]
  },
  {
   "cell_type": "code",
   "execution_count": 28,
   "metadata": {},
   "outputs": [],
   "source": [
    "def get_no_of_ratings(book_contents):\n",
    "    no_of_ratings=[]\n",
    "    for tag in book_contents:\n",
    "        star_tag= tag.find('li', class_='bc-list-item ratingsLabel')\n",
    "        try:\n",
    "            rating_tag = star_tag.find('span', class_='bc-text bc-size-small bc-color-secondary').text.strip()\n",
    "            no_of_ratings.append(rating_tag)\n",
    "        except AttributeError:\n",
    "            no_of_ratings.append(None)\n",
    "    return no_of_ratings"
   ]
  },
  {
   "cell_type": "markdown",
   "metadata": {},
   "source": [
    "We can call out function `get_no_of_ratings` to get the no of people rated the book. "
   ]
  },
  {
   "cell_type": "code",
   "execution_count": 29,
   "metadata": {
    "scrolled": true
   },
   "outputs": [
    {
     "data": {
      "text/plain": [
       "['Not rated yet',\n",
       " 'Not rated yet',\n",
       " '86 ratings',\n",
       " '129 ratings',\n",
       " '54 ratings',\n",
       " '50 ratings',\n",
       " '583 ratings',\n",
       " '482 ratings',\n",
       " '443 ratings',\n",
       " '550 ratings',\n",
       " '91 ratings',\n",
       " '12 ratings',\n",
       " '415 ratings',\n",
       " '194 ratings',\n",
       " 'Not rated yet',\n",
       " '944 ratings',\n",
       " '1 rating',\n",
       " '12 ratings',\n",
       " '24 ratings',\n",
       " '465 ratings',\n",
       " '98 ratings',\n",
       " '2,180 ratings',\n",
       " '445 ratings',\n",
       " 'Not rated yet',\n",
       " '532 ratings',\n",
       " '329 ratings',\n",
       " '590 ratings',\n",
       " '51 ratings',\n",
       " '186 ratings',\n",
       " '902 ratings',\n",
       " '743 ratings',\n",
       " '278 ratings',\n",
       " '318 ratings',\n",
       " '557 ratings',\n",
       " '363 ratings',\n",
       " '53 ratings',\n",
       " '509 ratings',\n",
       " '54 ratings',\n",
       " '260 ratings',\n",
       " '3 ratings',\n",
       " '1,093 ratings',\n",
       " '15 ratings',\n",
       " '395 ratings',\n",
       " '694 ratings',\n",
       " '2 ratings',\n",
       " '3 ratings',\n",
       " '6 ratings',\n",
       " '944 ratings',\n",
       " '37 ratings',\n",
       " '53 ratings']"
      ]
     },
     "execution_count": 29,
     "metadata": {},
     "output_type": "execute_result"
    }
   ],
   "source": [
    "get_no_of_ratings(book_contents)"
   ]
  },
  {
   "cell_type": "markdown",
   "metadata": {},
   "source": [
    "## 9. Regular Price of the Audio Book"
   ]
  },
  {
   "cell_type": "markdown",
   "metadata": {},
   "source": [
    "![](https://cdn-images-1.medium.com/max/1600/1*ubzh_Hwz2nDmgFNf9H1TiA.png)"
   ]
  },
  {
   "cell_type": "markdown",
   "metadata": {},
   "source": [
    "`<p class_='bc-text buybox-regular-price bc-spacing-none bc-spacing-top-none'>` and there are two tags like `<span class=\"bc-text bc-size-small bc-color-secondary\">` and second tag represents price field. Let's retrieve regular price of the audio book by using the below function."
   ]
  },
  {
   "cell_type": "code",
   "execution_count": 30,
   "metadata": {},
   "outputs": [],
   "source": [
    "def get_regular_price(book_contents):\n",
    "    regular_price=[]\n",
    "    for tag in book_contents:\n",
    "        buy_tag= tag.find('p', class_='bc-text buybox-regular-price bc-spacing-none bc-spacing-top-none')\n",
    "        try:\n",
    "            price_tag = buy_tag.find_all('span', class_='bc-text bc-size-base bc-color-base')\n",
    "            price= price_tag[1].text.strip()\n",
    "            regular_price.append(price)\n",
    "        except AttributeError:\n",
    "            regular_price.append(None)\n",
    "    return regular_price"
   ]
  },
  {
   "cell_type": "markdown",
   "metadata": {},
   "source": [
    "We can call out function `get_regular_price` to get the regular price of the book. "
   ]
  },
  {
   "cell_type": "code",
   "execution_count": 31,
   "metadata": {
    "scrolled": true
   },
   "outputs": [
    {
     "data": {
      "text/plain": [
       "['₹1,519.00',\n",
       " '₹703.00',\n",
       " '₹888.00',\n",
       " '₹500.00',\n",
       " '₹501.00',\n",
       " '₹388.00',\n",
       " '₹166.00',\n",
       " '₹323.00',\n",
       " '₹1,172.00',\n",
       " '₹879.00',\n",
       " '₹836.00',\n",
       " '₹1,575.00',\n",
       " '₹888.00',\n",
       " '₹568.00',\n",
       " '₹645.00',\n",
       " '₹323.00',\n",
       " '₹1,575.00',\n",
       " '₹879.00',\n",
       " '₹1,675.00',\n",
       " '₹501.00',\n",
       " '₹668.00',\n",
       " '₹820.00',\n",
       " '₹820.00',\n",
       " '₹836.00',\n",
       " '₹1,350.00',\n",
       " '₹1,005.00',\n",
       " '₹452.00',\n",
       " '₹1,005.00',\n",
       " '₹937.00',\n",
       " '₹615.00',\n",
       " '₹1,005.00',\n",
       " '₹568.00',\n",
       " '₹820.00',\n",
       " '₹888.00',\n",
       " '₹501.00',\n",
       " '₹134.00',\n",
       " '₹844.00',\n",
       " '₹586.00',\n",
       " '₹233.00',\n",
       " '₹888.00',\n",
       " '₹703.00',\n",
       " '₹888.00',\n",
       " '₹820.00',\n",
       " '₹500.00',\n",
       " '₹668.00',\n",
       " '₹797.00',\n",
       " '₹586.00',\n",
       " '₹1,181.00',\n",
       " '₹820.00',\n",
       " '₹615.00']"
      ]
     },
     "execution_count": 31,
     "metadata": {},
     "output_type": "execute_result"
    }
   ],
   "source": [
    "get_regular_price(book_contents)"
   ]
  },
  {
   "cell_type": "markdown",
   "metadata": {},
   "source": [
    "## 10. Images of the Book Cover"
   ]
  },
  {
   "cell_type": "markdown",
   "metadata": {},
   "source": [
    "![](https://cdn-images-1.medium.com/max/1600/1*IUkG5NrmhLmmeLw1CUVYJg.png)"
   ]
  },
  {
   "cell_type": "markdown",
   "metadata": {},
   "source": [
    "`<img class_='bc-pub-block bc-image-inset-border js-only-element'>` and 'src' attribute represents image link. Let's retrieve all the links of the images by using the below function."
   ]
  },
  {
   "cell_type": "code",
   "execution_count": 32,
   "metadata": {},
   "outputs": [],
   "source": [
    "def get_cover_img(book_contents):\n",
    "    cover_img=[]\n",
    "    for tag in book_contents:\n",
    "        img_tag= tag.find_all('img', class_='bc-pub-block bc-image-inset-border js-only-element')\n",
    "        try:\n",
    "            #price_tag = img_tag.find('span', class_='bc-text bc-size-base bc-color-base')\n",
    "            book_image_url= img_tag[0]['src'].strip()\n",
    "            cover_img.append(book_image_url)\n",
    "        except AttributeError:\n",
    "            cover_img.append(None)\n",
    "    return cover_img"
   ]
  },
  {
   "cell_type": "markdown",
   "metadata": {},
   "source": [
    "We can call out function `get_cover_img` to get the Images of the Book Cover. "
   ]
  },
  {
   "cell_type": "code",
   "execution_count": 33,
   "metadata": {
    "scrolled": true
   },
   "outputs": [
    {
     "data": {
      "text/plain": [
       "['https://m.media-amazon.com/images/I/51LP52ob7CL._SL500_.jpg',\n",
       " 'https://m.media-amazon.com/images/I/41xwPia5dAL._SL500_.jpg',\n",
       " 'https://m.media-amazon.com/images/I/41Px2q4eSiL._SL500_.jpg',\n",
       " 'https://m.media-amazon.com/images/I/51Dl6lXXesL._SL500_.jpg',\n",
       " 'https://m.media-amazon.com/images/I/51DbY4as4EL._SL500_.jpg',\n",
       " 'https://m.media-amazon.com/images/I/514WgltUohL._SL500_.jpg',\n",
       " 'https://m.media-amazon.com/images/I/51vKha04DuL._SL500_.jpg',\n",
       " 'https://m.media-amazon.com/images/I/41eSJ3-5wUL._SL500_.jpg',\n",
       " 'https://m.media-amazon.com/images/I/41mDQ4JH8EL._SL500_.jpg',\n",
       " 'https://m.media-amazon.com/images/I/51+8mBt4k7L._SL500_.jpg',\n",
       " 'https://m.media-amazon.com/images/I/51crV7aDATL._SL500_.jpg',\n",
       " 'https://m.media-amazon.com/images/I/51q82y93idL._SL500_.jpg',\n",
       " 'https://m.media-amazon.com/images/I/41+9W87E6nL._SL500_.jpg',\n",
       " 'https://m.media-amazon.com/images/I/51HiU+5mTwL._SL500_.jpg',\n",
       " 'https://m.media-amazon.com/images/I/51KReSBvxoL._SL500_.jpg',\n",
       " 'https://m.media-amazon.com/images/I/51rztfs5fPL._SL500_.jpg',\n",
       " 'https://m.media-amazon.com/images/I/51QdGH318hL._SL500_.jpg',\n",
       " 'https://m.media-amazon.com/images/I/41k8Ma4uAnL._SL500_.jpg',\n",
       " 'https://m.media-amazon.com/images/I/512ESwpmobL._SL500_.jpg',\n",
       " 'https://m.media-amazon.com/images/I/41bg11XnxiL._SL500_.jpg',\n",
       " 'https://m.media-amazon.com/images/I/41LyQkMMRNL._SL500_.jpg',\n",
       " 'https://m.media-amazon.com/images/I/51e-uVPtr5L._SL500_.jpg',\n",
       " 'https://m.media-amazon.com/images/I/51e6+Tmt0jL._SL500_.jpg',\n",
       " 'https://m.media-amazon.com/images/I/51-LRjBPDxL._SL500_.jpg',\n",
       " 'https://m.media-amazon.com/images/I/51j1P236E3L._SL500_.jpg',\n",
       " 'https://m.media-amazon.com/images/I/51PAIR77wJL._SL500_.jpg',\n",
       " 'https://m.media-amazon.com/images/I/41jq-ouUBkL._SL500_.jpg',\n",
       " 'https://m.media-amazon.com/images/I/519jGNHNcoL._SL500_.jpg',\n",
       " 'https://m.media-amazon.com/images/I/51h1jhqTiZL._SL500_.jpg',\n",
       " 'https://m.media-amazon.com/images/I/51gQ7pHF-zL._SL500_.jpg',\n",
       " 'https://m.media-amazon.com/images/I/51lmFVyRNjL._SL500_.jpg',\n",
       " 'https://m.media-amazon.com/images/I/51MsMgvIUcL._SL500_.jpg',\n",
       " 'https://m.media-amazon.com/images/I/41KWTz0vgnL._SL500_.jpg',\n",
       " 'https://m.media-amazon.com/images/I/516qHOFsz1L._SL500_.jpg',\n",
       " 'https://m.media-amazon.com/images/I/51o-DT4Z33L._SL500_.jpg',\n",
       " 'https://m.media-amazon.com/images/I/51EDhEokzbL._SL500_.jpg',\n",
       " 'https://m.media-amazon.com/images/I/51hAGh15bTL._SL500_.jpg',\n",
       " 'https://m.media-amazon.com/images/I/51vM7xqxyWL._SL500_.jpg',\n",
       " 'https://m.media-amazon.com/images/I/51LCpTzITaL._SL500_.jpg',\n",
       " 'https://m.media-amazon.com/images/I/41eq1WLXT9L._SL500_.jpg',\n",
       " 'https://m.media-amazon.com/images/I/51txCrB2JqL._SL500_.jpg',\n",
       " 'https://m.media-amazon.com/images/I/51dgJCnUS5S._SL500_.jpg',\n",
       " 'https://m.media-amazon.com/images/I/51AP0QEvJBL._SL500_.jpg',\n",
       " 'https://m.media-amazon.com/images/I/41NOnaoU9sL._SL500_.jpg',\n",
       " 'https://m.media-amazon.com/images/I/51hinYn5AvL._SL500_.jpg',\n",
       " 'https://m.media-amazon.com/images/I/41eDIah0qpL._SL500_.jpg',\n",
       " 'https://m.media-amazon.com/images/I/51oDMH3+FcL._SL500_.jpg',\n",
       " 'https://m.media-amazon.com/images/I/51m+8bXcVcL._SL500_.jpg',\n",
       " 'https://m.media-amazon.com/images/I/41SDAvNO7wL._SL500_.jpg',\n",
       " 'https://m.media-amazon.com/images/I/51mgrQxBpxL._SL500_.jpg']"
      ]
     },
     "execution_count": 33,
     "metadata": {},
     "output_type": "execute_result"
    }
   ],
   "source": [
    "get_cover_img(book_contents)"
   ]
  },
  {
   "cell_type": "markdown",
   "metadata": {},
   "source": [
    "## Create a Dictionary of Items By Using all the Functions \n",
    "\n",
    "\n",
    "Now that we got all the items that we need from the website, Let's define a function that parses HTML code from range of web pages and assembles all the list of items together and access it like a dictionary."
   ]
  },
  {
   "cell_type": "code",
   "execution_count": 34,
   "metadata": {},
   "outputs": [],
   "source": [
    "def parse_pages_ranged(end_page):\n",
    "    all_page_contents = {\n",
    "            'Book_Name':[],\n",
    "            'Description':[],\n",
    "            'Author':[],\n",
    "            'Rating':[],\n",
    "            'No_of_Ratings':[],\n",
    "            'Regular_Price':[],\n",
    "            'Language':[],\n",
    "            'Book_Audio_Length':[],\n",
    "            'Cover_IMG':[],\n",
    "            'Book_URL':[],\n",
    "            }    \n",
    "    for page in range (0,end_page):\n",
    "        pageno_x = get_pageno(page)\n",
    "        book_contents = pageno_x.find_all('li', class_='bc-list-item productListItem')\n",
    "        all_page_contents['Book_Name'] += get_book_names(book_contents)\n",
    "        all_page_contents['Description'] += get_description(book_contents)\n",
    "        all_page_contents['Author'] += get_written_by(book_contents)\n",
    "        all_page_contents['Rating'] += get_rating(book_contents)\n",
    "        all_page_contents['No_of_Ratings'] += get_no_of_ratings(book_contents)\n",
    "        all_page_contents['Regular_Price'] += get_regular_price(book_contents)\n",
    "        all_page_contents['Language'] += get_language(book_contents)\n",
    "        all_page_contents['Book_Audio_Length'] += get_book_length(book_contents)\n",
    "        all_page_contents['Cover_IMG'] += get_cover_img(book_contents)\n",
    "        all_page_contents['Book_URL'] += get_book_links(book_contents)\n",
    "        page = page + 1\n",
    "    return all_page_contents"
   ]
  },
  {
   "cell_type": "markdown",
   "metadata": {},
   "source": [
    "We can call out function `parse_pages_ranged` to get the output which was parsed from the Audible website using pandas we will be visualizing the data in a tabular format.\n",
    "\n",
    "Python Pandas - `pandas.DataFrame( )` DataFrame: A Data frame is a two-dimensional data structure, i.e., data is aligned in a tabular fashion in rows and columns."
   ]
  },
  {
   "cell_type": "code",
   "execution_count": null,
   "metadata": {},
   "outputs": [],
   "source": [
    "all_pages_scraped= pd.DataFrame(parse_pages_ranged(24))\n",
    "all_pages_scraped"
   ]
  },
  {
   "cell_type": "markdown",
   "metadata": {},
   "source": [
    "## Save the extracted information to a CSV file\n",
    "\n",
    "We've scraped 10 columns and 1000+ rows. Let's write all the data collected in a CSV file."
   ]
  },
  {
   "cell_type": "code",
   "execution_count": null,
   "metadata": {},
   "outputs": [],
   "source": [
    "all_pages_scraped.to_csv('Audible_Business_and_Careers_Books_2022.csv',index=None)"
   ]
  },
  {
   "cell_type": "markdown",
   "metadata": {},
   "source": [
    "## Summary"
   ]
  },
  {
   "cell_type": "markdown",
   "metadata": {},
   "source": [
    "\n",
    "Here's a brief summary of the step-by-step process we followed for scraping top insurance companies from audible.in\n",
    "\n",
    "1. We downloaded the webpage using requests\n",
    "2. We parsed the HTML source code of the web page using beautifulsoup4\n",
    "3. We extracted Book Name, Ratings, Price, Cover Image, Author, Length, Language, Links.\n",
    "4. Compiled the data and created a CSV file using Pandas."
   ]
  },
  {
   "cell_type": "markdown",
   "metadata": {},
   "source": [
    "### Here's the complete code that we've used to get this project done"
   ]
  },
  {
   "cell_type": "code",
   "execution_count": null,
   "metadata": {},
   "outputs": [],
   "source": [
    "def get_pageno(pageno):\n",
    "    pageno= str(pageno)\n",
    "    # Construct the URL\n",
    "    books_pageno_url = 'https://www.audible.in/search?node=21881793031&pageSize=50&sort=&page=' + pageno\n",
    "    \n",
    "    # Get the HTML page content using requests\n",
    "    response = rq.get(books_pageno_url)\n",
    "    \n",
    "    # Ensure that the reponse is valid\n",
    "    if response.status_code != 200:\n",
    "        print('Status code:', response.status_code)\n",
    "        raise Exception('Failed to fetch web page ' + books_pageno_url)\n",
    "    \n",
    "    # Construct a beautiful soup document\n",
    "    doc = bs(response.text)\n",
    "    \n",
    "    return doc\n",
    "\n",
    "def get_book_names(book_contents):\n",
    "    book_names= []\n",
    "    for tag in book_contents:\n",
    "            a_tag_name= tag.h3.find_all('a', recursive=False)\n",
    "            book_name= a_tag_name[0].text.strip()\n",
    "            book_names.append(book_name)\n",
    "    return book_names\n",
    "\n",
    "def get_book_links(book_contents):\n",
    "    base_url='https://www.audible.in'\n",
    "    book_links=[]\n",
    "    for tag in book_contents:\n",
    "        a_tag_name= tag.h3.find_all('a', recursive=False)\n",
    "        url= a_tag_name[0]['href'].strip()\n",
    "        book_link= base_url+url\n",
    "        book_links.append(book_link)\n",
    "    return book_links\n",
    "\n",
    "def get_book_length(book_contents):\n",
    "    book_length=[]\n",
    "    for tag in book_contents:\n",
    "        try:\n",
    "            len_tag= tag.find('li', class_='bc-list-item runtimeLabel')\n",
    "            length_tag = len_tag.find('span')\n",
    "            length = length_tag.text.strip()\n",
    "            book_length.append(length)\n",
    "        except AttributeError:\n",
    "            book_length.append(None)\n",
    "    return book_length\n",
    "\n",
    "def get_written_by(book_contents):\n",
    "    written_by=[]\n",
    "    for tag in book_contents:\n",
    "        author_tag= tag.find('li', class_='bc-list-item authorLabel')\n",
    "        try:\n",
    "            auth_tag = author_tag.find('a')\n",
    "            author = auth_tag.text.strip()\n",
    "            written_by.append(author)\n",
    "        except AttributeError:\n",
    "            written_by.append(None)\n",
    "    return written_by\n",
    "\n",
    "def get_description(book_contents):\n",
    "    description=[]\n",
    "    for tag in book_contents:\n",
    "        about_tag= tag.find('li', class_='bc-list-item subtitle')\n",
    "        try:\n",
    "            description_tag = about_tag.find('span').text.strip()\n",
    "            description.append(description_tag)\n",
    "        except AttributeError:\n",
    "            description.append(None)\n",
    "    return description\n",
    "\n",
    "def get_language(book_contents):\n",
    "    language=[]\n",
    "    for tag in book_contents:\n",
    "        lang_tag= tag.find('li', class_='bc-list-item languageLabel')\n",
    "        try:\n",
    "            language_tag = lang_tag.find('span').text.split()\n",
    "            language.append(language_tag)\n",
    "        except AttributeError:\n",
    "            language.append(None)\n",
    "    return language\n",
    "\n",
    "def get_rating(book_contents):\n",
    "    rating=[]\n",
    "    for tag in book_contents:\n",
    "        star_tag= tag.find('li', class_='bc-list-item ratingsLabel')\n",
    "        try:\n",
    "            rating_tag = star_tag.find('span', class_='bc-text bc-pub-offscreen').text.strip()\n",
    "            rating.append(rating_tag)\n",
    "        except AttributeError:\n",
    "            rating.append(None)\n",
    "    return rating\n",
    "\n",
    "def get_no_of_ratings(book_contents):\n",
    "    no_of_ratings=[]\n",
    "    for tag in book_contents:\n",
    "        star_tag= tag.find('li', class_='bc-list-item ratingsLabel')\n",
    "        try:\n",
    "            rating_tag = star_tag.find('span', class_='bc-text bc-size-small bc-color-secondary').text.strip()\n",
    "            no_of_ratings.append(rating_tag)\n",
    "        except AttributeError:\n",
    "            no_of_ratings.append(None)\n",
    "    return no_of_ratings\n",
    "\n",
    "def get_regular_price(book_contents):\n",
    "    regular_price=[]\n",
    "    for tag in book_contents:\n",
    "        buy_tag= tag.find('p', class_='bc-text buybox-regular-price bc-spacing-none bc-spacing-top-none')\n",
    "        try:\n",
    "            price_tag = buy_tag.find_all('span', class_='bc-text bc-size-base bc-color-base')\n",
    "            price= price_tag[1].text.strip()\n",
    "            regular_price.append(price)\n",
    "        except AttributeError:\n",
    "            regular_price.append(None)\n",
    "    return regular_price\n",
    "\n",
    "def get_cover_img(book_contents):\n",
    "    cover_img=[]\n",
    "    for tag in book_contents:\n",
    "        img_tag= tag.find_all('img', class_='bc-pub-block bc-image-inset-border js-only-element')\n",
    "        try:\n",
    "            #price_tag = img_tag.find('span', class_='bc-text bc-size-base bc-color-base')\n",
    "            book_image_url= img_tag[0]['src'].strip()\n",
    "            cover_img.append(book_image_url)\n",
    "        except AttributeError:\n",
    "            cover_img.append(None)\n",
    "    return cover_img\n",
    "\n",
    "def parse_pages_ranged(end_page):\n",
    "    all_page_contents = {\n",
    "            'Book_Name':[],\n",
    "            'Description':[],\n",
    "            'Author':[],\n",
    "            'Rating':[],\n",
    "            'No_of_Ratings':[],\n",
    "            'Regular_Price':[],\n",
    "            'Language':[],\n",
    "            'Book_Audio_Length':[],\n",
    "            'Cover_IMG':[],\n",
    "            'Book_URL':[],\n",
    "            }    \n",
    "    for page in range (0,end_page):\n",
    "        pageno_x = get_pageno(page)\n",
    "        book_contents = pageno_x.find_all('li', class_='bc-list-item productListItem')\n",
    "        all_page_contents['Book_Name'] += get_book_names(book_contents)\n",
    "        all_page_contents['Description'] += get_description(book_contents)\n",
    "        all_page_contents['Author'] += get_written_by(book_contents)\n",
    "        all_page_contents['Rating'] += get_rating(book_contents)\n",
    "        all_page_contents['No_of_Ratings'] += get_no_of_ratings(book_contents)\n",
    "        all_page_contents['Regular_Price'] += get_regular_price(book_contents)\n",
    "        all_page_contents['Language'] += get_language(book_contents)\n",
    "        all_page_contents['Book_Audio_Length'] += get_book_length(book_contents)\n",
    "        all_page_contents['Cover_IMG'] += get_cover_img(book_contents)\n",
    "        all_page_contents['Book_URL'] += get_book_links(book_contents)\n",
    "        page = page + 1\n",
    "    return all_page_contents"
   ]
  },
  {
   "cell_type": "markdown",
   "metadata": {},
   "source": [
    "We can scrape all the books in Audible under any category. All we have to do is find the tags, modify the code by inserting appropriate tags in the functions and change the variable names for better understanding of the code. "
   ]
  },
  {
   "cell_type": "markdown",
   "metadata": {},
   "source": [
    "### Saving the notebook"
   ]
  },
  {
   "cell_type": "code",
   "execution_count": null,
   "metadata": {},
   "outputs": [],
   "source": [
    "# Execute this to save new versions of the notebook\n",
    "jovian.commit(files=['Audible_Business_and_Careers_Books_2022.csv'])"
   ]
  },
  {
   "cell_type": "code",
   "execution_count": null,
   "metadata": {
    "scrolled": true
   },
   "outputs": [],
   "source": [
    "#jovian.commit(project=\"web-scraping-project-audible_B&C\")"
   ]
  },
  {
   "cell_type": "markdown",
   "metadata": {},
   "source": [
    "## References\n",
    "1. [Jovian](https://jovian.ai/) A platform to learn Data Science.\n",
    "2. [BeautifulSoup4](https://www.crummy.com/software/BeautifulSoup/bs4/doc/) Documentation\n",
    "3. [Pandas](https://pandas.pydata.org/docs/) Documentation\n",
    "4. This Web Scraping project is completed under the guidance of Jovian Team. Thank you for all the support."
   ]
  },
  {
   "cell_type": "markdown",
   "metadata": {},
   "source": [
    "## Future Work\n",
    "In near future, I'll post again on web scraping using Selenium or Scrapy. I'll be performing Data Analysis and visualizing the scraped data, so stay tuned!"
   ]
  },
  {
   "cell_type": "markdown",
   "metadata": {},
   "source": [
    "## Follow me Here\n",
    "\n",
    "[LinkedIn](https://www.linkedin.com/in/pratulot/) | [Jovian](https://jovian.ai/pratulofficialthings) | [GitHub](https://github.com/pratulot)"
   ]
  }
 ],
 "metadata": {
  "kernelspec": {
   "display_name": "Python 3 (ipykernel)",
   "language": "python",
   "name": "python3"
  },
  "language_info": {
   "codemirror_mode": {
    "name": "ipython",
    "version": 3
   },
   "file_extension": ".py",
   "mimetype": "text/x-python",
   "name": "python",
   "nbconvert_exporter": "python",
   "pygments_lexer": "ipython3",
   "version": "3.9.6"
  }
 },
 "nbformat": 4,
 "nbformat_minor": 2
}
